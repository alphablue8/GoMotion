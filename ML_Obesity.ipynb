{
  "cells": [
    {
      "cell_type": "markdown",
      "id": "u1DXu3wG3DTi",
      "metadata": {
        "id": "u1DXu3wG3DTi"
      },
      "source": [
        "# Obesity Levels Prediction\n",
        "\n",
        "\n",
        "\n"
      ]
    },
    {
      "cell_type": "markdown",
      "id": "-BES_q-S3dLA",
      "metadata": {
        "id": "-BES_q-S3dLA"
      },
      "source": [
        "## Kelompok: 4\n",
        "## Anggota\n",
        "\n",
        "*   Alhanafil Fauzi\n",
        "*   Anggoro Maliky\n",
        "*   Erma Eliyani\n",
        "*   Luthfiyana Hamidah Sherly Pradana\n",
        "*   Shafa Amelia Putri"
      ]
    },
    {
      "cell_type": "markdown",
      "id": "b550dc49",
      "metadata": {
        "id": "b550dc49",
        "papermill": {
          "duration": 0.019026,
          "end_time": "2024-04-25T11:52:21.931286",
          "exception": false,
          "start_time": "2024-04-25T11:52:21.912260",
          "status": "completed"
        },
        "tags": []
      },
      "source": [
        "# Obesity Levels EDA || Prediction"
      ]
    },
    {
      "cell_type": "markdown",
      "id": "62dd922a",
      "metadata": {
        "id": "62dd922a",
        "papermill": {
          "duration": 0.019195,
          "end_time": "2024-04-25T11:52:22.006200",
          "exception": false,
          "start_time": "2024-04-25T11:52:21.987005",
          "status": "completed"
        },
        "tags": []
      },
      "source": [
        "## Dataset Information"
      ]
    },
    {
      "cell_type": "markdown",
      "id": "4dc22db1",
      "metadata": {
        "id": "4dc22db1",
        "papermill": {
          "duration": 0.018048,
          "end_time": "2024-04-25T11:52:22.043242",
          "exception": false,
          "start_time": "2024-04-25T11:52:22.025194",
          "status": "completed"
        },
        "tags": []
      },
      "source": [
        "* **This information has been recolected from the original dataset information by *FATEMEH MEHRPARVAR***\n",
        "    * Gender: Feature, Categorical, \"Gender\"\n",
        "    * Age : Feature, Continuous, \"Age\"\n",
        "    * Height: Feature, Continuous\n",
        "    * Weight: Feature Continuous\n",
        "    * family_history_with_overweight: Feature, Binary, \" Has a family member suffered or suffers from overweight? \"\n",
        "\n",
        "    * FAVC : Feature, Binary, \" Do you eat high caloric food frequently? \"\n",
        "    * FCVC : Feature, Integer, \" Do you usually eat vegetables in your meals? \"\n",
        "    * NCP : Feature, Continuous, \" How many main meals do you have daily? \"\n",
        "    * CAEC : Feature, Categorical, \" Do you eat any food between meals? \"\n",
        "    * SMOKE : Feature, Binary, \" Do you smoke? \"\n",
        "    * CH2O: Feature, Continuous, \" How much water do you drink daily? \"\n",
        "    * SCC: Feature, Binary, \" Do you monitor the calories you eat daily? \"\n",
        "    * FAF: Feature, Continuous, \" How often do you have physical activity? \"\n",
        "    * TUE : Feature, Integer, \" How much time do you use technological devices such as cell phone, videogames, television, computer and others? \"\n",
        "\n",
        "    * CALC : Feature, Categorical, \" How often do you drink alcohol? \"\n",
        "    * MTRANS : Feature, Categorical, \" Which transportation do you usually use? \"\n",
        "    * NObeyesdad : Target, Categorical, \"Obesity level\""
      ]
    },
    {
      "cell_type": "markdown",
      "id": "da2ca971",
      "metadata": {
        "id": "da2ca971",
        "papermill": {
          "duration": 0.019893,
          "end_time": "2024-04-25T11:52:22.081558",
          "exception": false,
          "start_time": "2024-04-25T11:52:22.061665",
          "status": "completed"
        },
        "tags": []
      },
      "source": [
        "# Set-Up"
      ]
    },
    {
      "cell_type": "markdown",
      "id": "02432b5e",
      "metadata": {
        "id": "02432b5e",
        "papermill": {
          "duration": 0.018578,
          "end_time": "2024-04-25T11:52:22.119785",
          "exception": false,
          "start_time": "2024-04-25T11:52:22.101207",
          "status": "completed"
        },
        "tags": []
      },
      "source": [
        "* **Load Libraries**"
      ]
    },
    {
      "cell_type": "code",
      "execution_count": 4,
      "id": "314178cf",
      "metadata": {
        "execution": {
          "iopub.execute_input": "2024-04-25T11:52:22.161431Z",
          "iopub.status.busy": "2024-04-25T11:52:22.160537Z",
          "iopub.status.idle": "2024-04-25T11:52:25.224846Z",
          "shell.execute_reply": "2024-04-25T11:52:25.223679Z"
        },
        "id": "314178cf",
        "papermill": {
          "duration": 3.088785,
          "end_time": "2024-04-25T11:52:25.227851",
          "exception": false,
          "start_time": "2024-04-25T11:52:22.139066",
          "status": "completed"
        },
        "tags": []
      },
      "outputs": [],
      "source": [
        "import pandas as pd\n",
        "import matplotlib\n",
        "import matplotlib.pyplot as plt\n",
        "from matplotlib import style\n",
        "import matplotlib.gridspec as gridspec\n",
        "import seaborn as sns\n",
        "import numpy as np\n",
        "import sklearn\n",
        "from platform import python_version\n",
        "\n",
        "# Ignore Warning\n",
        "import warnings\n",
        "warnings.filterwarnings(\"ignore\")\n",
        "from sklearn.metrics import confusion_matrix, classification_report, accuracy_score\n",
        "from sklearn.model_selection import train_test_split\n",
        "from sklearn.linear_model import LinearRegression\n",
        "from sklearn import tree\n",
        "from sklearn.metrics import r2_score\n"
      ]
    },
    {
      "cell_type": "markdown",
      "id": "f8f5bb0e",
      "metadata": {
        "id": "f8f5bb0e",
        "papermill": {
          "duration": 0.017791,
          "end_time": "2024-04-25T11:52:25.263958",
          "exception": false,
          "start_time": "2024-04-25T11:52:25.246167",
          "status": "completed"
        },
        "tags": []
      },
      "source": [
        "* **Load Data**"
      ]
    },
    {
      "cell_type": "code",
      "execution_count": 5,
      "id": "1244f050",
      "metadata": {
        "colab": {
          "base_uri": "https://localhost:8080/"
        },
        "execution": {
          "iopub.execute_input": "2024-04-25T11:52:25.302807Z",
          "iopub.status.busy": "2024-04-25T11:52:25.301901Z",
          "iopub.status.idle": "2024-04-25T11:52:25.341284Z",
          "shell.execute_reply": "2024-04-25T11:52:25.340326Z"
        },
        "id": "1244f050",
        "outputId": "b30fefe0-93fd-4ba3-a551-2b7b271a3ff8",
        "papermill": {
          "duration": 0.061749,
          "end_time": "2024-04-25T11:52:25.343966",
          "exception": false,
          "start_time": "2024-04-25T11:52:25.282217",
          "status": "completed"
        },
        "tags": []
      },
      "outputs": [],
      "source": [
        "# from google.colab import drive\n",
        "#drive.mount('/gdrive')\n",
        "#!ln -s \"/gdrive/My Drive/ML-Obesity\" \"/content/ML-Obesity\""
      ]
    },
    {
      "cell_type": "code",
      "execution_count": 6,
      "id": "1BC2sPrPXIl1",
      "metadata": {
        "id": "1BC2sPrPXIl1"
      },
      "outputs": [],
      "source": [
        "df = pd.read_csv(r\"ObesityDataSet.csv\")"
      ]
    },
    {
      "cell_type": "code",
      "execution_count": 7,
      "id": "zPdI2QVqCKQX",
      "metadata": {
        "colab": {
          "base_uri": "https://localhost:8080/",
          "height": 206
        },
        "id": "zPdI2QVqCKQX",
        "outputId": "a0a37a7a-05e0-4a99-f699-f7b8b56d87ac"
      },
      "outputs": [
        {
          "data": {
            "text/html": [
              "<div>\n",
              "<style scoped>\n",
              "    .dataframe tbody tr th:only-of-type {\n",
              "        vertical-align: middle;\n",
              "    }\n",
              "\n",
              "    .dataframe tbody tr th {\n",
              "        vertical-align: top;\n",
              "    }\n",
              "\n",
              "    .dataframe thead th {\n",
              "        text-align: right;\n",
              "    }\n",
              "</style>\n",
              "<table border=\"1\" class=\"dataframe\">\n",
              "  <thead>\n",
              "    <tr style=\"text-align: right;\">\n",
              "      <th></th>\n",
              "      <th>Age</th>\n",
              "      <th>Gender</th>\n",
              "      <th>Height</th>\n",
              "      <th>Weight</th>\n",
              "      <th>CALC</th>\n",
              "      <th>FAVC</th>\n",
              "      <th>FCVC</th>\n",
              "      <th>NCP</th>\n",
              "      <th>SCC</th>\n",
              "      <th>SMOKE</th>\n",
              "      <th>CH2O</th>\n",
              "      <th>family_history_with_overweight</th>\n",
              "      <th>FAF</th>\n",
              "      <th>TUE</th>\n",
              "      <th>CAEC</th>\n",
              "      <th>MTRANS</th>\n",
              "      <th>NObeyesdad</th>\n",
              "    </tr>\n",
              "  </thead>\n",
              "  <tbody>\n",
              "    <tr>\n",
              "      <th>0</th>\n",
              "      <td>21.0</td>\n",
              "      <td>Female</td>\n",
              "      <td>1.62</td>\n",
              "      <td>64.0</td>\n",
              "      <td>no</td>\n",
              "      <td>no</td>\n",
              "      <td>2.0</td>\n",
              "      <td>3.0</td>\n",
              "      <td>no</td>\n",
              "      <td>no</td>\n",
              "      <td>2.0</td>\n",
              "      <td>yes</td>\n",
              "      <td>0.0</td>\n",
              "      <td>1.0</td>\n",
              "      <td>Sometimes</td>\n",
              "      <td>Public_Transportation</td>\n",
              "      <td>Normal_Weight</td>\n",
              "    </tr>\n",
              "    <tr>\n",
              "      <th>1</th>\n",
              "      <td>21.0</td>\n",
              "      <td>Female</td>\n",
              "      <td>1.52</td>\n",
              "      <td>56.0</td>\n",
              "      <td>Sometimes</td>\n",
              "      <td>no</td>\n",
              "      <td>3.0</td>\n",
              "      <td>3.0</td>\n",
              "      <td>yes</td>\n",
              "      <td>yes</td>\n",
              "      <td>3.0</td>\n",
              "      <td>yes</td>\n",
              "      <td>3.0</td>\n",
              "      <td>0.0</td>\n",
              "      <td>Sometimes</td>\n",
              "      <td>Public_Transportation</td>\n",
              "      <td>Normal_Weight</td>\n",
              "    </tr>\n",
              "    <tr>\n",
              "      <th>2</th>\n",
              "      <td>23.0</td>\n",
              "      <td>Male</td>\n",
              "      <td>1.80</td>\n",
              "      <td>77.0</td>\n",
              "      <td>Frequently</td>\n",
              "      <td>no</td>\n",
              "      <td>2.0</td>\n",
              "      <td>3.0</td>\n",
              "      <td>no</td>\n",
              "      <td>no</td>\n",
              "      <td>2.0</td>\n",
              "      <td>yes</td>\n",
              "      <td>2.0</td>\n",
              "      <td>1.0</td>\n",
              "      <td>Sometimes</td>\n",
              "      <td>Public_Transportation</td>\n",
              "      <td>Normal_Weight</td>\n",
              "    </tr>\n",
              "    <tr>\n",
              "      <th>3</th>\n",
              "      <td>27.0</td>\n",
              "      <td>Male</td>\n",
              "      <td>1.80</td>\n",
              "      <td>87.0</td>\n",
              "      <td>Frequently</td>\n",
              "      <td>no</td>\n",
              "      <td>3.0</td>\n",
              "      <td>3.0</td>\n",
              "      <td>no</td>\n",
              "      <td>no</td>\n",
              "      <td>2.0</td>\n",
              "      <td>no</td>\n",
              "      <td>2.0</td>\n",
              "      <td>0.0</td>\n",
              "      <td>Sometimes</td>\n",
              "      <td>Walking</td>\n",
              "      <td>Overweight_Level_I</td>\n",
              "    </tr>\n",
              "    <tr>\n",
              "      <th>4</th>\n",
              "      <td>22.0</td>\n",
              "      <td>Male</td>\n",
              "      <td>1.78</td>\n",
              "      <td>89.8</td>\n",
              "      <td>Sometimes</td>\n",
              "      <td>no</td>\n",
              "      <td>2.0</td>\n",
              "      <td>1.0</td>\n",
              "      <td>no</td>\n",
              "      <td>no</td>\n",
              "      <td>2.0</td>\n",
              "      <td>no</td>\n",
              "      <td>0.0</td>\n",
              "      <td>0.0</td>\n",
              "      <td>Sometimes</td>\n",
              "      <td>Public_Transportation</td>\n",
              "      <td>Overweight_Level_II</td>\n",
              "    </tr>\n",
              "  </tbody>\n",
              "</table>\n",
              "</div>"
            ],
            "text/plain": [
              "    Age  Gender  Height  Weight        CALC FAVC  FCVC  NCP  SCC SMOKE  CH2O  \\\n",
              "0  21.0  Female    1.62    64.0          no   no   2.0  3.0   no    no   2.0   \n",
              "1  21.0  Female    1.52    56.0   Sometimes   no   3.0  3.0  yes   yes   3.0   \n",
              "2  23.0    Male    1.80    77.0  Frequently   no   2.0  3.0   no    no   2.0   \n",
              "3  27.0    Male    1.80    87.0  Frequently   no   3.0  3.0   no    no   2.0   \n",
              "4  22.0    Male    1.78    89.8   Sometimes   no   2.0  1.0   no    no   2.0   \n",
              "\n",
              "  family_history_with_overweight  FAF  TUE       CAEC                 MTRANS  \\\n",
              "0                            yes  0.0  1.0  Sometimes  Public_Transportation   \n",
              "1                            yes  3.0  0.0  Sometimes  Public_Transportation   \n",
              "2                            yes  2.0  1.0  Sometimes  Public_Transportation   \n",
              "3                             no  2.0  0.0  Sometimes                Walking   \n",
              "4                             no  0.0  0.0  Sometimes  Public_Transportation   \n",
              "\n",
              "            NObeyesdad  \n",
              "0        Normal_Weight  \n",
              "1        Normal_Weight  \n",
              "2        Normal_Weight  \n",
              "3   Overweight_Level_I  \n",
              "4  Overweight_Level_II  "
            ]
          },
          "execution_count": 7,
          "metadata": {},
          "output_type": "execute_result"
        }
      ],
      "source": [
        "df.head()"
      ]
    },
    {
      "cell_type": "code",
      "execution_count": 8,
      "id": "jgzNsAbL905v",
      "metadata": {
        "colab": {
          "base_uri": "https://localhost:8080/"
        },
        "id": "jgzNsAbL905v",
        "outputId": "76d8cd3a-5da8-4b6b-e228-346a2d56cf34"
      },
      "outputs": [
        {
          "name": "stdout",
          "output_type": "stream",
          "text": [
            "<class 'pandas.core.frame.DataFrame'>\n",
            "RangeIndex: 2111 entries, 0 to 2110\n",
            "Data columns (total 17 columns):\n",
            " #   Column                          Non-Null Count  Dtype  \n",
            "---  ------                          --------------  -----  \n",
            " 0   Age                             2111 non-null   float64\n",
            " 1   Gender                          2111 non-null   object \n",
            " 2   Height                          2111 non-null   float64\n",
            " 3   Weight                          2111 non-null   float64\n",
            " 4   CALC                            2111 non-null   object \n",
            " 5   FAVC                            2111 non-null   object \n",
            " 6   FCVC                            2111 non-null   float64\n",
            " 7   NCP                             2111 non-null   float64\n",
            " 8   SCC                             2111 non-null   object \n",
            " 9   SMOKE                           2111 non-null   object \n",
            " 10  CH2O                            2111 non-null   float64\n",
            " 11  family_history_with_overweight  2111 non-null   object \n",
            " 12  FAF                             2111 non-null   float64\n",
            " 13  TUE                             2111 non-null   float64\n",
            " 14  CAEC                            2111 non-null   object \n",
            " 15  MTRANS                          2111 non-null   object \n",
            " 16  NObeyesdad                      2111 non-null   object \n",
            "dtypes: float64(8), object(9)\n",
            "memory usage: 280.5+ KB\n"
          ]
        }
      ],
      "source": [
        "df.info()"
      ]
    },
    {
      "cell_type": "markdown",
      "id": "8d4c0154",
      "metadata": {
        "id": "8d4c0154",
        "papermill": {
          "duration": 0.019346,
          "end_time": "2024-04-25T11:52:25.382504",
          "exception": false,
          "start_time": "2024-04-25T11:52:25.363158",
          "status": "completed"
        },
        "tags": []
      },
      "source": [
        "* **Data Cleaning**"
      ]
    },
    {
      "cell_type": "code",
      "execution_count": 9,
      "id": "7b4ded51",
      "metadata": {
        "colab": {
          "base_uri": "https://localhost:8080/",
          "height": 582
        },
        "execution": {
          "iopub.execute_input": "2024-04-25T11:52:25.422125Z",
          "iopub.status.busy": "2024-04-25T11:52:25.421271Z",
          "iopub.status.idle": "2024-04-25T11:52:25.444626Z",
          "shell.execute_reply": "2024-04-25T11:52:25.443272Z"
        },
        "id": "7b4ded51",
        "outputId": "3f85f65b-70a2-46a1-a34b-3e79ae11b737",
        "papermill": {
          "duration": 0.046993,
          "end_time": "2024-04-25T11:52:25.447609",
          "exception": false,
          "start_time": "2024-04-25T11:52:25.400616",
          "status": "completed"
        },
        "tags": []
      },
      "outputs": [
        {
          "data": {
            "text/html": [
              "<div>\n",
              "<style scoped>\n",
              "    .dataframe tbody tr th:only-of-type {\n",
              "        vertical-align: middle;\n",
              "    }\n",
              "\n",
              "    .dataframe tbody tr th {\n",
              "        vertical-align: top;\n",
              "    }\n",
              "\n",
              "    .dataframe thead th {\n",
              "        text-align: right;\n",
              "    }\n",
              "</style>\n",
              "<table border=\"1\" class=\"dataframe\">\n",
              "  <thead>\n",
              "    <tr style=\"text-align: right;\">\n",
              "      <th></th>\n",
              "      <th>Dtype</th>\n",
              "      <th>Unique</th>\n",
              "      <th>Null</th>\n",
              "    </tr>\n",
              "  </thead>\n",
              "  <tbody>\n",
              "    <tr>\n",
              "      <th>Age</th>\n",
              "      <td>float64</td>\n",
              "      <td>1402</td>\n",
              "      <td>0</td>\n",
              "    </tr>\n",
              "    <tr>\n",
              "      <th>Gender</th>\n",
              "      <td>object</td>\n",
              "      <td>2</td>\n",
              "      <td>0</td>\n",
              "    </tr>\n",
              "    <tr>\n",
              "      <th>Height</th>\n",
              "      <td>float64</td>\n",
              "      <td>1574</td>\n",
              "      <td>0</td>\n",
              "    </tr>\n",
              "    <tr>\n",
              "      <th>Weight</th>\n",
              "      <td>float64</td>\n",
              "      <td>1525</td>\n",
              "      <td>0</td>\n",
              "    </tr>\n",
              "    <tr>\n",
              "      <th>CALC</th>\n",
              "      <td>object</td>\n",
              "      <td>4</td>\n",
              "      <td>0</td>\n",
              "    </tr>\n",
              "    <tr>\n",
              "      <th>FAVC</th>\n",
              "      <td>object</td>\n",
              "      <td>2</td>\n",
              "      <td>0</td>\n",
              "    </tr>\n",
              "    <tr>\n",
              "      <th>FCVC</th>\n",
              "      <td>float64</td>\n",
              "      <td>810</td>\n",
              "      <td>0</td>\n",
              "    </tr>\n",
              "    <tr>\n",
              "      <th>NCP</th>\n",
              "      <td>float64</td>\n",
              "      <td>635</td>\n",
              "      <td>0</td>\n",
              "    </tr>\n",
              "    <tr>\n",
              "      <th>SCC</th>\n",
              "      <td>object</td>\n",
              "      <td>2</td>\n",
              "      <td>0</td>\n",
              "    </tr>\n",
              "    <tr>\n",
              "      <th>SMOKE</th>\n",
              "      <td>object</td>\n",
              "      <td>2</td>\n",
              "      <td>0</td>\n",
              "    </tr>\n",
              "    <tr>\n",
              "      <th>CH2O</th>\n",
              "      <td>float64</td>\n",
              "      <td>1268</td>\n",
              "      <td>0</td>\n",
              "    </tr>\n",
              "    <tr>\n",
              "      <th>family_history_with_overweight</th>\n",
              "      <td>object</td>\n",
              "      <td>2</td>\n",
              "      <td>0</td>\n",
              "    </tr>\n",
              "    <tr>\n",
              "      <th>FAF</th>\n",
              "      <td>float64</td>\n",
              "      <td>1190</td>\n",
              "      <td>0</td>\n",
              "    </tr>\n",
              "    <tr>\n",
              "      <th>TUE</th>\n",
              "      <td>float64</td>\n",
              "      <td>1129</td>\n",
              "      <td>0</td>\n",
              "    </tr>\n",
              "    <tr>\n",
              "      <th>CAEC</th>\n",
              "      <td>object</td>\n",
              "      <td>4</td>\n",
              "      <td>0</td>\n",
              "    </tr>\n",
              "    <tr>\n",
              "      <th>MTRANS</th>\n",
              "      <td>object</td>\n",
              "      <td>5</td>\n",
              "      <td>0</td>\n",
              "    </tr>\n",
              "    <tr>\n",
              "      <th>NObeyesdad</th>\n",
              "      <td>object</td>\n",
              "      <td>7</td>\n",
              "      <td>0</td>\n",
              "    </tr>\n",
              "  </tbody>\n",
              "</table>\n",
              "</div>"
            ],
            "text/plain": [
              "                                  Dtype  Unique  Null\n",
              "Age                             float64    1402     0\n",
              "Gender                           object       2     0\n",
              "Height                          float64    1574     0\n",
              "Weight                          float64    1525     0\n",
              "CALC                             object       4     0\n",
              "FAVC                             object       2     0\n",
              "FCVC                            float64     810     0\n",
              "NCP                             float64     635     0\n",
              "SCC                              object       2     0\n",
              "SMOKE                            object       2     0\n",
              "CH2O                            float64    1268     0\n",
              "family_history_with_overweight   object       2     0\n",
              "FAF                             float64    1190     0\n",
              "TUE                             float64    1129     0\n",
              "CAEC                             object       4     0\n",
              "MTRANS                           object       5     0\n",
              "NObeyesdad                       object       7     0"
            ]
          },
          "execution_count": 9,
          "metadata": {},
          "output_type": "execute_result"
        }
      ],
      "source": [
        "# Creating DataFrame with Dtype, Unique, and Null information\n",
        "df_info = pd.DataFrame(df.dtypes, columns=['Dtype'])\n",
        "df_info['Unique'] = df.nunique().values\n",
        "df_info['Null'] = df.isnull().sum().values\n",
        "df_info"
      ]
    },
    {
      "cell_type": "markdown",
      "id": "36b769e9",
      "metadata": {
        "id": "36b769e9",
        "papermill": {
          "duration": 0.018174,
          "end_time": "2024-04-25T11:52:25.485146",
          "exception": false,
          "start_time": "2024-04-25T11:52:25.466972",
          "status": "completed"
        },
        "tags": []
      },
      "source": [
        "* **Check if is there any duplicates**"
      ]
    },
    {
      "cell_type": "code",
      "execution_count": 10,
      "id": "a5012cae",
      "metadata": {
        "colab": {
          "base_uri": "https://localhost:8080/"
        },
        "execution": {
          "iopub.execute_input": "2024-04-25T11:52:25.526545Z",
          "iopub.status.busy": "2024-04-25T11:52:25.526146Z",
          "iopub.status.idle": "2024-04-25T11:52:25.548395Z",
          "shell.execute_reply": "2024-04-25T11:52:25.547179Z"
        },
        "id": "a5012cae",
        "outputId": "1f229cb6-5050-4b5d-f981-a66729ff82b0",
        "papermill": {
          "duration": 0.047231,
          "end_time": "2024-04-25T11:52:25.550959",
          "exception": false,
          "start_time": "2024-04-25T11:52:25.503728",
          "status": "completed"
        },
        "tags": []
      },
      "outputs": [
        {
          "name": "stdout",
          "output_type": "stream",
          "text": [
            "None\n"
          ]
        }
      ],
      "source": [
        "duplicates = df.drop_duplicates(inplace=True)\n",
        "print(duplicates)"
      ]
    },
    {
      "cell_type": "markdown",
      "id": "1eab5e9c",
      "metadata": {
        "id": "1eab5e9c",
        "papermill": {
          "duration": 0.018194,
          "end_time": "2024-04-25T11:52:25.588672",
          "exception": false,
          "start_time": "2024-04-25T11:52:25.570478",
          "status": "completed"
        },
        "tags": []
      },
      "source": [
        "* **This DataSet was already completly cleaned.**"
      ]
    },
    {
      "cell_type": "markdown",
      "id": "38df50ca",
      "metadata": {
        "id": "38df50ca",
        "papermill": {
          "duration": 0.018606,
          "end_time": "2024-04-25T11:52:25.626902",
          "exception": false,
          "start_time": "2024-04-25T11:52:25.608296",
          "status": "completed"
        },
        "tags": []
      },
      "source": [
        "# Data Analysis"
      ]
    },
    {
      "cell_type": "markdown",
      "id": "883868dc",
      "metadata": {
        "id": "883868dc",
        "papermill": {
          "duration": 0.018261,
          "end_time": "2024-04-25T11:52:25.663760",
          "exception": false,
          "start_time": "2024-04-25T11:52:25.645499",
          "status": "completed"
        },
        "tags": []
      },
      "source": [
        "## General Data Frame Information"
      ]
    },
    {
      "cell_type": "markdown",
      "id": "b872987a",
      "metadata": {
        "id": "b872987a",
        "papermill": {
          "duration": 0.018816,
          "end_time": "2024-04-25T11:52:25.701296",
          "exception": false,
          "start_time": "2024-04-25T11:52:25.682480",
          "status": "completed"
        },
        "tags": []
      },
      "source": [
        "* **Age, Height and Weight Box plots.**"
      ]
    },
    {
      "cell_type": "code",
      "execution_count": 11,
      "id": "5f30b54d",
      "metadata": {
        "colab": {
          "base_uri": "https://localhost:8080/",
          "height": 545
        },
        "execution": {
          "iopub.execute_input": "2024-04-25T11:52:25.740240Z",
          "iopub.status.busy": "2024-04-25T11:52:25.739804Z",
          "iopub.status.idle": "2024-04-25T11:52:26.299168Z",
          "shell.execute_reply": "2024-04-25T11:52:26.297902Z"
        },
        "id": "5f30b54d",
        "outputId": "8349aba1-048f-407d-cd8b-78d8d5fa745e",
        "papermill": {
          "duration": 0.582233,
          "end_time": "2024-04-25T11:52:26.301925",
          "exception": false,
          "start_time": "2024-04-25T11:52:25.719692",
          "status": "completed"
        },
        "tags": []
      },
      "outputs": [
        {
          "data": {
            "image/png": "[encoded data removed]",
            "text/plain": [
              "<Figure size 864x432 with 3 Axes>"
            ]
          },
          "metadata": {
            "needs_background": "light"
          },
          "output_type": "display_data"
        }
      ],
      "source": [
        "fig, axs = plt.subplots(1, 3, figsize=(12, 6))\n",
        "pos = 0\n",
        "\n",
        "for column in ['Age', 'Height', 'Weight']:\n",
        "    axs[pos].boxplot(df[column])\n",
        "    axs[pos].set_title(f'{column}')\n",
        "    plt.xticks(rotation = 90)\n",
        "    pos += 1\n",
        "plt.show()"
      ]
    },
    {
      "cell_type": "markdown",
      "id": "a84f0913",
      "metadata": {
        "id": "a84f0913",
        "papermill": {
          "duration": 0.019223,
          "end_time": "2024-04-25T11:52:26.341595",
          "exception": false,
          "start_time": "2024-04-25T11:52:26.322372",
          "status": "completed"
        },
        "tags": []
      },
      "source": [
        "* **Value counts of 'CALC','FAVC', 'NObeyesdad' and 'MTRANS' columns.**"
      ]
    },
    {
      "cell_type": "code",
      "execution_count": 12,
      "id": "be0aeed2",
      "metadata": {
        "colab": {
          "base_uri": "https://localhost:8080/",
          "height": 1000
        },
        "execution": {
          "iopub.execute_input": "2024-04-25T11:52:26.383573Z",
          "iopub.status.busy": "2024-04-25T11:52:26.382871Z",
          "iopub.status.idle": "2024-04-25T11:52:27.424355Z",
          "shell.execute_reply": "2024-04-25T11:52:27.423180Z"
        },
        "id": "be0aeed2",
        "outputId": "db64ed6d-0b63-4ef6-ae77-c33ad1358a17",
        "papermill": {
          "duration": 1.064849,
          "end_time": "2024-04-25T11:52:27.427022",
          "exception": false,
          "start_time": "2024-04-25T11:52:26.362173",
          "status": "completed"
        },
        "tags": []
      },
      "outputs": [
        {
          "data": {
            "image/png": "[encoded data removed]",
            "text/plain": [
              "<Figure size 432x288 with 1 Axes>"
            ]
          },
          "metadata": {
            "needs_background": "light"
          },
          "output_type": "display_data"
        },
        {
          "data": {
            "image/png": "[encoded data removed]",
            "text/plain": [
              "<Figure size 432x288 with 1 Axes>"
            ]
          },
          "metadata": {
            "needs_background": "light"
          },
          "output_type": "display_data"
        },
        {
          "data": {
            "image/png": "[encoded data removed]",
            "text/plain": [
              "<Figure size 432x288 with 1 Axes>"
            ]
          },
          "metadata": {
            "needs_background": "light"
          },
          "output_type": "display_data"
        },
        {
          "data": {
            "image/png": "[encoded data removed]",
            "text/plain": [
              "<Figure size 432x288 with 1 Axes>"
            ]
          },
          "metadata": {
            "needs_background": "light"
          },
          "output_type": "display_data"
        }
      ],
      "source": [
        "titles = ['How often do you drink alcohol?', 'Do you eat high caloric food frequently?', 'Obesity level', 'Which transportation do you usually use?']\n",
        "count = 0\n",
        "for column in ['CALC','FAVC', 'NObeyesdad', 'MTRANS']:\n",
        "    values = df[column].value_counts().iloc[:10]\n",
        "    sns.barplot( x= values.index, y = values, palette='viridis')\n",
        "    plt.xticks(rotation = 90)\n",
        "    plt.grid(color='black', linestyle='--', linewidth=0.5, which ='both', axis='y')\n",
        "    plt.title(titles[count])\n",
        "    count += 1\n",
        "    plt.show()"
      ]
    },
    {
      "cell_type": "markdown",
      "id": "6ecdf588",
      "metadata": {
        "id": "6ecdf588",
        "papermill": {
          "duration": 0.021839,
          "end_time": "2024-04-25T11:52:27.470622",
          "exception": false,
          "start_time": "2024-04-25T11:52:27.448783",
          "status": "completed"
        },
        "tags": []
      },
      "source": [
        "* **Gender % in the DataFrame**"
      ]
    },
    {
      "cell_type": "code",
      "execution_count": 13,
      "id": "d7927dc4",
      "metadata": {
        "colab": {
          "base_uri": "https://localhost:8080/",
          "height": 445
        },
        "execution": {
          "iopub.execute_input": "2024-04-25T11:52:27.587417Z",
          "iopub.status.busy": "2024-04-25T11:52:27.586874Z",
          "iopub.status.idle": "2024-04-25T11:52:27.716818Z",
          "shell.execute_reply": "2024-04-25T11:52:27.715924Z"
        },
        "id": "d7927dc4",
        "outputId": "8fc1824d-a5dc-4ba6-b0f3-2f64f1feb11a",
        "papermill": {
          "duration": 0.159861,
          "end_time": "2024-04-25T11:52:27.722591",
          "exception": false,
          "start_time": "2024-04-25T11:52:27.562730",
          "status": "completed"
        },
        "tags": []
      },
      "outputs": [
        {
          "data": {
            "text/plain": [
              "Text(0.5, 1.0, 'Gender % in the dataframe')"
            ]
          },
          "execution_count": 13,
          "metadata": {},
          "output_type": "execute_result"
        },
        {
          "data": {
            "image/png": "[encoded data removed]",
            "text/plain": [
              "<Figure size 432x288 with 1 Axes>"
            ]
          },
          "metadata": {},
          "output_type": "display_data"
        }
      ],
      "source": [
        "colors = ['darkorange', 'limegreen']\n",
        "\n",
        "plt.pie(df['Gender'].value_counts(), labels= df['Gender'].value_counts().index, autopct=('%.2f'), colors = colors)\n",
        "plt.title('Gender % in the dataframe')"
      ]
    },
    {
      "cell_type": "markdown",
      "id": "2e203c2d",
      "metadata": {
        "id": "2e203c2d",
        "papermill": {
          "duration": 0.042557,
          "end_time": "2024-04-25T11:52:27.812584",
          "exception": false,
          "start_time": "2024-04-25T11:52:27.770027",
          "status": "completed"
        },
        "tags": []
      },
      "source": [
        "## Specific Data Frame Information"
      ]
    },
    {
      "cell_type": "markdown",
      "id": "bb580f1b",
      "metadata": {
        "id": "bb580f1b",
        "papermill": {
          "duration": 0.02187,
          "end_time": "2024-04-25T11:52:27.857142",
          "exception": false,
          "start_time": "2024-04-25T11:52:27.835272",
          "status": "completed"
        },
        "tags": []
      },
      "source": [
        "* **Do the people that smoke also drink?**"
      ]
    },
    {
      "cell_type": "code",
      "execution_count": 14,
      "id": "a87bb558",
      "metadata": {
        "colab": {
          "base_uri": "https://localhost:8080/",
          "height": 591
        },
        "execution": {
          "iopub.execute_input": "2024-04-25T11:52:27.904146Z",
          "iopub.status.busy": "2024-04-25T11:52:27.903757Z",
          "iopub.status.idle": "2024-04-25T11:52:28.334873Z",
          "shell.execute_reply": "2024-04-25T11:52:28.333072Z"
        },
        "id": "a87bb558",
        "outputId": "60c06886-eba5-4699-90f5-75424b8f9f1c",
        "papermill": {
          "duration": 0.458682,
          "end_time": "2024-04-25T11:52:28.337983",
          "exception": false,
          "start_time": "2024-04-25T11:52:27.879301",
          "status": "completed"
        },
        "tags": []
      },
      "outputs": [
        {
          "data": {
            "text/plain": [
              "Text(0.5, 1.0, 'Do the people that smoke also drink?')"
            ]
          },
          "execution_count": 14,
          "metadata": {},
          "output_type": "execute_result"
        },
        {
          "data": {
            "image/png": "[encoded data removed]",
            "text/plain": [
              "<Figure size 720x432 with 1 Axes>"
            ]
          },
          "metadata": {
            "needs_background": "light"
          },
          "output_type": "display_data"
        }
      ],
      "source": [
        "drugs = df.groupby('SMOKE')['CALC'].value_counts().unstack(fill_value=0)\n",
        "\n",
        "drugs.plot(kind='bar', colormap='RdYlGn', figsize=(10,6))\n",
        "plt.title('Do the people that smoke also drink?')"
      ]
    },
    {
      "cell_type": "markdown",
      "id": "398ac278",
      "metadata": {
        "id": "398ac278",
        "papermill": {
          "duration": 0.023395,
          "end_time": "2024-04-25T11:52:28.384878",
          "exception": false,
          "start_time": "2024-04-25T11:52:28.361483",
          "status": "completed"
        },
        "tags": []
      },
      "source": [
        "* **Gender, Height and Weight Comparation**"
      ]
    },
    {
      "cell_type": "code",
      "execution_count": 15,
      "id": "0f4f7008",
      "metadata": {
        "colab": {
          "base_uri": "https://localhost:8080/",
          "height": 639
        },
        "execution": {
          "iopub.execute_input": "2024-04-25T11:52:28.437834Z",
          "iopub.status.busy": "2024-04-25T11:52:28.437396Z",
          "iopub.status.idle": "2024-04-25T11:52:28.965451Z",
          "shell.execute_reply": "2024-04-25T11:52:28.964117Z"
        },
        "id": "0f4f7008",
        "outputId": "763f9102-d66d-4fd8-d52c-b0fa667d5ea7",
        "papermill": {
          "duration": 0.559953,
          "end_time": "2024-04-25T11:52:28.968231",
          "exception": false,
          "start_time": "2024-04-25T11:52:28.408278",
          "status": "completed"
        },
        "tags": []
      },
      "outputs": [
        {
          "data": {
            "text/plain": [
              "Text(0.5, 1.0, 'Gender Weight Mean Comparation')"
            ]
          },
          "execution_count": 15,
          "metadata": {},
          "output_type": "execute_result"
        },
        {
          "data": {
            "image/png": "[encoded data removed]",
            "text/plain": [
              "<Figure size 864x504 with 2 Axes>"
            ]
          },
          "metadata": {
            "needs_background": "light"
          },
          "output_type": "display_data"
        }
      ],
      "source": [
        "gender_height = df.groupby('Gender')['Height'].mean()\n",
        "gender_weight = df.groupby('Gender')['Weight'].mean()\n",
        "\n",
        "fig, ax = plt.subplots(1, 2, figsize=(12,7))\n",
        "\n",
        "bar0 = ax[0].bar(x= gender_height.index, height = gender_height, color = colors)\n",
        "ax[0].bar_label(bar0, fmt='%.2f')\n",
        "ax[0].set_title('Gender Height Mean Comparation')\n",
        "\n",
        "bar1 = ax[1].bar(x= gender_weight.index, height = gender_weight, color = colors)\n",
        "ax[1].bar_label(bar1, fmt='%.2f')\n",
        "ax[1].set_title('Gender Weight Mean Comparation')\n"
      ]
    },
    {
      "cell_type": "markdown",
      "id": "bb633ef9",
      "metadata": {
        "id": "bb633ef9",
        "papermill": {
          "duration": 0.023886,
          "end_time": "2024-04-25T11:52:29.016345",
          "exception": false,
          "start_time": "2024-04-25T11:52:28.992459",
          "status": "completed"
        },
        "tags": []
      },
      "source": [
        "* **Obesity level of people that eats caloric foods**"
      ]
    },
    {
      "cell_type": "code",
      "execution_count": 16,
      "id": "92c8a82d",
      "metadata": {
        "colab": {
          "base_uri": "https://localhost:8080/",
          "height": 706
        },
        "execution": {
          "iopub.execute_input": "2024-04-25T11:52:29.067664Z",
          "iopub.status.busy": "2024-04-25T11:52:29.066752Z",
          "iopub.status.idle": "2024-04-25T11:52:29.542907Z",
          "shell.execute_reply": "2024-04-25T11:52:29.541450Z"
        },
        "id": "92c8a82d",
        "outputId": "5a83c81f-9120-424b-d3a8-2235dcd4f5a9",
        "papermill": {
          "duration": 0.505965,
          "end_time": "2024-04-25T11:52:29.546492",
          "exception": false,
          "start_time": "2024-04-25T11:52:29.040527",
          "status": "completed"
        },
        "tags": []
      },
      "outputs": [
        {
          "data": {
            "text/plain": [
              "Text(0.5, 1.0, 'Obesity Level of people that eats high caloric food')"
            ]
          },
          "execution_count": 16,
          "metadata": {},
          "output_type": "execute_result"
        },
        {
          "data": {
            "image/png": "[encoded data removed]",
            "text/plain": [
              "<Figure size 864x432 with 1 Axes>"
            ]
          },
          "metadata": {
            "needs_background": "light"
          },
          "output_type": "display_data"
        }
      ],
      "source": [
        "ob_caloric = df.groupby('NObeyesdad')['FAVC'].value_counts().unstack()\n",
        "\n",
        "ob_caloric.plot(kind='bar', colormap='RdYlGn', figsize=(12, 6))\n",
        "plt.title('Obesity Level of people that eats high caloric food')"
      ]
    },
    {
      "cell_type": "markdown",
      "id": "03ee916d",
      "metadata": {
        "id": "03ee916d",
        "papermill": {
          "duration": 0.024343,
          "end_time": "2024-04-25T11:52:29.595899",
          "exception": false,
          "start_time": "2024-04-25T11:52:29.571556",
          "status": "completed"
        },
        "tags": []
      },
      "source": [
        "# Prediction\n"
      ]
    },
    {
      "cell_type": "markdown",
      "id": "7806db40",
      "metadata": {
        "id": "7806db40",
        "papermill": {
          "duration": 0.024532,
          "end_time": "2024-04-25T11:52:29.644946",
          "exception": false,
          "start_time": "2024-04-25T11:52:29.620414",
          "status": "completed"
        },
        "tags": []
      },
      "source": [
        "## Preprocess Data\n"
      ]
    },
    {
      "cell_type": "markdown",
      "id": "68f517eb",
      "metadata": {
        "id": "68f517eb",
        "papermill": {
          "duration": 0.024275,
          "end_time": "2024-04-25T11:52:29.693806",
          "exception": false,
          "start_time": "2024-04-25T11:52:29.669531",
          "status": "completed"
        },
        "tags": []
      },
      "source": [
        "* **Data to Numeric**"
      ]
    },
    {
      "cell_type": "code",
      "execution_count": 17,
      "id": "3df7b0f6",
      "metadata": {
        "execution": {
          "iopub.execute_input": "2024-04-25T11:52:29.746170Z",
          "iopub.status.busy": "2024-04-25T11:52:29.745362Z",
          "iopub.status.idle": "2024-04-25T11:52:29.776333Z",
          "shell.execute_reply": "2024-04-25T11:52:29.775346Z"
        },
        "id": "3df7b0f6",
        "papermill": {
          "duration": 0.059435,
          "end_time": "2024-04-25T11:52:29.779098",
          "exception": false,
          "start_time": "2024-04-25T11:52:29.719663",
          "status": "completed"
        },
        "tags": []
      },
      "outputs": [],
      "source": [
        "df['Gender'].replace(['Male', 'Female'],[0,1],inplace=True)\n",
        "\n",
        "# Columns with 'no', 'Sometimes', 'Frequently', 'Always'\n",
        "for column in ['CALC', 'CAEC']:\n",
        "    df[column].replace(['no', 'Sometimes', 'Frequently', 'Always'],[0,1,2,3],inplace=True)\n",
        "\n",
        "# Binary columns\n",
        "for column in ['FAVC', 'SCC', 'SMOKE', 'family_history_with_overweight']:\n",
        "    df[column].replace(['no', 'yes'],[0,1],inplace=True)\n",
        "\n",
        "df['MTRANS'].replace(['Walking','Public_Transportation', 'Bike', 'Motorbike', 'Automobile'],[0,1,2,3,4],inplace=True)\n",
        "df['NObeyesdad'].replace(['Insufficient_Weight', 'Normal_Weight', 'Overweight_Level_I', 'Overweight_Level_II', 'Obesity_Type_I', 'Obesity_Type_II', 'Obesity_Type_III'],[0,1,2,3,4,5,6],inplace=True)"
      ]
    },
    {
      "cell_type": "markdown",
      "id": "86096c48",
      "metadata": {
        "id": "86096c48",
        "papermill": {
          "duration": 0.02488,
          "end_time": "2024-04-25T11:52:29.828267",
          "exception": false,
          "start_time": "2024-04-25T11:52:29.803387",
          "status": "completed"
        },
        "tags": []
      },
      "source": [
        "## Correlation Map"
      ]
    },
    {
      "cell_type": "code",
      "execution_count": 18,
      "id": "734e3cc6",
      "metadata": {
        "colab": {
          "base_uri": "https://localhost:8080/",
          "height": 981
        },
        "execution": {
          "iopub.execute_input": "2024-04-25T11:52:29.879365Z",
          "iopub.status.busy": "2024-04-25T11:52:29.878669Z",
          "iopub.status.idle": "2024-04-25T11:52:31.475658Z",
          "shell.execute_reply": "2024-04-25T11:52:31.474567Z"
        },
        "id": "734e3cc6",
        "outputId": "051839c0-1049-4eea-8948-c22d3df051c7",
        "papermill": {
          "duration": 1.628682,
          "end_time": "2024-04-25T11:52:31.481441",
          "exception": false,
          "start_time": "2024-04-25T11:52:29.852759",
          "status": "completed"
        },
        "tags": []
      },
      "outputs": [
        {
          "data": {
            "text/plain": [
              "<Axes: >"
            ]
          },
          "execution_count": 18,
          "metadata": {},
          "output_type": "execute_result"
        },
        {
          "data": {
            "image/png": "[encoded data removed]",
            "text/plain": [
              "<Figure size 1008x648 with 2 Axes>"
            ]
          },
          "metadata": {
            "needs_background": "light"
          },
          "output_type": "display_data"
        }
      ],
      "source": [
        "corr = df.corr(numeric_only=True)\n",
        "\n",
        "plt.figure(figsize=(14,9))\n",
        "sns.heatmap(corr, cmap= 'plasma', annot = True)"
      ]
    },
    {
      "cell_type": "markdown",
      "id": "2d4c0c2f",
      "metadata": {
        "id": "2d4c0c2f",
        "papermill": {
          "duration": 0.028188,
          "end_time": "2024-04-25T11:52:31.537716",
          "exception": false,
          "start_time": "2024-04-25T11:52:31.509528",
          "status": "completed"
        },
        "tags": []
      },
      "source": [
        "### Split Data"
      ]
    },
    {
      "cell_type": "code",
      "execution_count": 19,
      "id": "72402b57",
      "metadata": {
        "execution": {
          "iopub.execute_input": "2024-04-25T11:52:31.596474Z",
          "iopub.status.busy": "2024-04-25T11:52:31.595416Z",
          "iopub.status.idle": "2024-04-25T11:52:31.602196Z",
          "shell.execute_reply": "2024-04-25T11:52:31.601361Z"
        },
        "id": "72402b57",
        "papermill": {
          "duration": 0.038779,
          "end_time": "2024-04-25T11:52:31.604593",
          "exception": false,
          "start_time": "2024-04-25T11:52:31.565814",
          "status": "completed"
        },
        "tags": []
      },
      "outputs": [],
      "source": [
        "x = df.drop('NObeyesdad', axis='columns')\n",
        "y = df['NObeyesdad']"
      ]
    },
    {
      "cell_type": "code",
      "execution_count": 20,
      "id": "c59cb988",
      "metadata": {
        "execution": {
          "iopub.execute_input": "2024-04-25T11:52:31.663760Z",
          "iopub.status.busy": "2024-04-25T11:52:31.663369Z",
          "iopub.status.idle": "2024-04-25T11:52:31.673029Z",
          "shell.execute_reply": "2024-04-25T11:52:31.672136Z"
        },
        "id": "c59cb988",
        "papermill": {
          "duration": 0.04297,
          "end_time": "2024-04-25T11:52:31.675577",
          "exception": false,
          "start_time": "2024-04-25T11:52:31.632607",
          "status": "completed"
        },
        "tags": []
      },
      "outputs": [],
      "source": [
        "X_train, X_test, y_train, y_test = train_test_split(x, y, train_size=0.2, random_state=1)"
      ]
    },
    {
      "cell_type": "markdown",
      "id": "e5204b5e",
      "metadata": {
        "id": "e5204b5e",
        "papermill": {
          "duration": 0.027856,
          "end_time": "2024-04-25T11:52:31.732190",
          "exception": false,
          "start_time": "2024-04-25T11:52:31.704334",
          "status": "completed"
        },
        "tags": []
      },
      "source": [
        "* **Functions to calculate the accuracy of the models**"
      ]
    },
    {
      "cell_type": "code",
      "execution_count": 21,
      "id": "52ad2b53",
      "metadata": {
        "execution": {
          "iopub.execute_input": "2024-04-25T11:52:31.791325Z",
          "iopub.status.busy": "2024-04-25T11:52:31.790230Z",
          "iopub.status.idle": "2024-04-25T11:52:31.799975Z",
          "shell.execute_reply": "2024-04-25T11:52:31.799115Z"
        },
        "id": "52ad2b53",
        "papermill": {
          "duration": 0.041821,
          "end_time": "2024-04-25T11:52:31.802524",
          "exception": false,
          "start_time": "2024-04-25T11:52:31.760703",
          "status": "completed"
        },
        "tags": []
      },
      "outputs": [],
      "source": [
        "import numpy\n",
        "\n",
        "\n",
        "models_acc = {}\n",
        "def classification_acc(model, name):\n",
        "    pred = model.predict(X_test)\n",
        "\n",
        "    class_report = classification_report(y_test, pred)\n",
        "    print(\"Classification Report:\\n\", class_report)\n",
        "\n",
        "    sns.heatmap(confusion_matrix(y_test,pred), annot=True)\n",
        "    plt.title(f'{name} confusion matrix')\n",
        "    plt.show()\n",
        "    accuracy = accuracy_score(y_test, pred)\n",
        "    accuracy = numpy.float64(accuracy)\n",
        "    print(\"Accuracy:\", accuracy.round(3))\n",
        "\n",
        "    models_acc[name] = accuracy.round(3)\n",
        "\n",
        "\n",
        "def regression_acc(model, name):\n",
        "    pred = model.predict(X_test)\n",
        "    score = r2_score(y_test, pred).round(3)\n",
        "    print('Accuracy:', score, '%')\n",
        "    models_acc[name] = score"
      ]
    },
    {
      "cell_type": "markdown",
      "id": "455e48a7",
      "metadata": {
        "id": "455e48a7",
        "papermill": {
          "duration": 0.027813,
          "end_time": "2024-04-25T11:52:31.858474",
          "exception": false,
          "start_time": "2024-04-25T11:52:31.830661",
          "status": "completed"
        },
        "tags": []
      },
      "source": [
        "## ML Models"
      ]
    },
    {
      "cell_type": "markdown",
      "id": "73120872",
      "metadata": {
        "id": "73120872",
        "papermill": {
          "duration": 0.030022,
          "end_time": "2024-04-25T11:52:31.916649",
          "exception": false,
          "start_time": "2024-04-25T11:52:31.886627",
          "status": "completed"
        },
        "tags": []
      },
      "source": [
        "### Linear Regression\n"
      ]
    },
    {
      "cell_type": "code",
      "execution_count": 22,
      "id": "bfd44d07",
      "metadata": {
        "colab": {
          "base_uri": "https://localhost:8080/"
        },
        "execution": {
          "iopub.execute_input": "2024-04-25T11:52:31.975764Z",
          "iopub.status.busy": "2024-04-25T11:52:31.974795Z",
          "iopub.status.idle": "2024-04-25T11:52:32.013884Z",
          "shell.execute_reply": "2024-04-25T11:52:32.011722Z"
        },
        "id": "bfd44d07",
        "outputId": "0a81abd3-9174-41e7-cc0e-20903d54befe",
        "papermill": {
          "duration": 0.073011,
          "end_time": "2024-04-25T11:52:32.018340",
          "exception": false,
          "start_time": "2024-04-25T11:52:31.945329",
          "status": "completed"
        },
        "tags": []
      },
      "outputs": [
        {
          "name": "stdout",
          "output_type": "stream",
          "text": [
            "Accuracy: 0.946 %\n"
          ]
        }
      ],
      "source": [
        "linear_reg = LinearRegression()\n",
        "linear_reg.fit(X_train, y_train)\n",
        "\n",
        "regression_acc(linear_reg, 'Linear Regression')"
      ]
    },
    {
      "cell_type": "markdown",
      "id": "667c2b65",
      "metadata": {
        "id": "667c2b65",
        "papermill": {
          "duration": 0.055183,
          "end_time": "2024-04-25T11:52:32.134351",
          "exception": false,
          "start_time": "2024-04-25T11:52:32.079168",
          "status": "completed"
        },
        "tags": []
      },
      "source": [
        "### Decision Tree"
      ]
    },
    {
      "cell_type": "markdown",
      "id": "dc6ff1df",
      "metadata": {
        "id": "dc6ff1df",
        "papermill": {
          "duration": 0.028024,
          "end_time": "2024-04-25T11:52:32.191335",
          "exception": false,
          "start_time": "2024-04-25T11:52:32.163311",
          "status": "completed"
        },
        "tags": []
      },
      "source": [
        "#### Decision Tree Regressor"
      ]
    },
    {
      "cell_type": "code",
      "execution_count": 23,
      "id": "87e76ebf",
      "metadata": {
        "execution": {
          "iopub.execute_input": "2024-04-25T11:52:32.250718Z",
          "iopub.status.busy": "2024-04-25T11:52:32.250287Z",
          "iopub.status.idle": "2024-04-25T11:52:32.262074Z",
          "shell.execute_reply": "2024-04-25T11:52:32.260721Z"
        },
        "id": "87e76ebf",
        "papermill": {
          "duration": 0.045315,
          "end_time": "2024-04-25T11:52:32.265198",
          "exception": false,
          "start_time": "2024-04-25T11:52:32.219883",
          "status": "completed"
        },
        "tags": []
      },
      "outputs": [],
      "source": [
        "clf = tree.DecisionTreeRegressor()\n",
        "clf = clf.fit(X_train, y_train)"
      ]
    },
    {
      "cell_type": "code",
      "execution_count": 24,
      "id": "6379b7a2",
      "metadata": {
        "colab": {
          "base_uri": "https://localhost:8080/"
        },
        "execution": {
          "iopub.execute_input": "2024-04-25T11:52:32.325038Z",
          "iopub.status.busy": "2024-04-25T11:52:32.323824Z",
          "iopub.status.idle": "2024-04-25T11:52:32.333865Z",
          "shell.execute_reply": "2024-04-25T11:52:32.332260Z"
        },
        "id": "6379b7a2",
        "outputId": "48933ce1-e311-4d3d-98c4-308748e9fc59",
        "papermill": {
          "duration": 0.043044,
          "end_time": "2024-04-25T11:52:32.336592",
          "exception": false,
          "start_time": "2024-04-25T11:52:32.293548",
          "status": "completed"
        },
        "tags": []
      },
      "outputs": [
        {
          "name": "stdout",
          "output_type": "stream",
          "text": [
            "Accuracy: 0.957 %\n"
          ]
        }
      ],
      "source": [
        "regression_acc(clf, 'Decision Tree Regressor')"
      ]
    },
    {
      "cell_type": "markdown",
      "id": "7b025faf",
      "metadata": {
        "id": "7b025faf",
        "papermill": {
          "duration": 0.02806,
          "end_time": "2024-04-25T11:52:32.393339",
          "exception": false,
          "start_time": "2024-04-25T11:52:32.365279",
          "status": "completed"
        },
        "tags": []
      },
      "source": [
        "#### Decision Tree Classifier"
      ]
    },
    {
      "cell_type": "code",
      "execution_count": 25,
      "id": "61d08d67",
      "metadata": {
        "colab": {
          "base_uri": "https://localhost:8080/",
          "height": 75
        },
        "execution": {
          "iopub.execute_input": "2024-04-25T11:52:32.454425Z",
          "iopub.status.busy": "2024-04-25T11:52:32.453607Z",
          "iopub.status.idle": "2024-04-25T11:52:32.469047Z",
          "shell.execute_reply": "2024-04-25T11:52:32.467689Z"
        },
        "id": "61d08d67",
        "outputId": "d9cb3c79-9cb3-4c11-b751-02092eb411b9",
        "papermill": {
          "duration": 0.04899,
          "end_time": "2024-04-25T11:52:32.472240",
          "exception": false,
          "start_time": "2024-04-25T11:52:32.423250",
          "status": "completed"
        },
        "tags": []
      },
      "outputs": [
        {
          "data": {
            "text/plain": [
              "DecisionTreeClassifier()"
            ]
          },
          "execution_count": 25,
          "metadata": {},
          "output_type": "execute_result"
        }
      ],
      "source": [
        "dec_tree = tree.DecisionTreeClassifier()\n",
        "dec_tree.fit(X_train, y_train)"
      ]
    },
    {
      "cell_type": "code",
      "execution_count": 26,
      "id": "c5924e29",
      "metadata": {
        "colab": {
          "base_uri": "https://localhost:8080/",
          "height": 730
        },
        "execution": {
          "iopub.execute_input": "2024-04-25T11:52:32.536580Z",
          "iopub.status.busy": "2024-04-25T11:52:32.536146Z",
          "iopub.status.idle": "2024-04-25T11:52:33.018995Z",
          "shell.execute_reply": "2024-04-25T11:52:33.017809Z"
        },
        "id": "c5924e29",
        "outputId": "2fa0a027-c8bf-47dc-962f-ce7647f19fc1",
        "papermill": {
          "duration": 0.51777,
          "end_time": "2024-04-25T11:52:33.022191",
          "exception": false,
          "start_time": "2024-04-25T11:52:32.504421",
          "status": "completed"
        },
        "tags": []
      },
      "outputs": [
        {
          "name": "stdout",
          "output_type": "stream",
          "text": [
            "Classification Report:\n",
            "               precision    recall  f1-score   support\n",
            "\n",
            "           0       0.93      0.92      0.92       214\n",
            "           1       0.78      0.76      0.77       229\n",
            "           2       0.71      0.79      0.75       229\n",
            "           3       0.84      0.75      0.79       238\n",
            "           4       0.89      0.92      0.90       271\n",
            "           5       0.97      0.97      0.97       240\n",
            "           6       1.00      1.00      1.00       249\n",
            "\n",
            "    accuracy                           0.87      1670\n",
            "   macro avg       0.87      0.87      0.87      1670\n",
            "weighted avg       0.88      0.87      0.87      1670\n",
            "\n"
          ]
        },
        {
          "data": {
            "image/png": "[encoded data removed]",
            "text/plain": [
              "<Figure size 432x288 with 2 Axes>"
            ]
          },
          "metadata": {
            "needs_background": "light"
          },
          "output_type": "display_data"
        },
        {
          "name": "stdout",
          "output_type": "stream",
          "text": [
            "Accuracy: 0.874\n"
          ]
        }
      ],
      "source": [
        "classification_acc(dec_tree, 'Decision Tree Classifier')"
      ]
    },
    {
      "cell_type": "markdown",
      "id": "04b25d70",
      "metadata": {
        "id": "04b25d70",
        "papermill": {
          "duration": 0.030003,
          "end_time": "2024-04-25T11:52:33.082823",
          "exception": false,
          "start_time": "2024-04-25T11:52:33.052820",
          "status": "completed"
        },
        "tags": []
      },
      "source": [
        "### KNN models"
      ]
    },
    {
      "cell_type": "markdown",
      "id": "567c7ba4",
      "metadata": {
        "id": "567c7ba4",
        "papermill": {
          "duration": 0.030146,
          "end_time": "2024-04-25T11:52:33.143458",
          "exception": false,
          "start_time": "2024-04-25T11:52:33.113312",
          "status": "completed"
        },
        "tags": []
      },
      "source": [
        "#### KN Regressor"
      ]
    },
    {
      "cell_type": "code",
      "execution_count": 27,
      "id": "41dff4db",
      "metadata": {
        "colab": {
          "base_uri": "https://localhost:8080/",
          "height": 75
        },
        "execution": {
          "iopub.execute_input": "2024-04-25T11:52:33.206899Z",
          "iopub.status.busy": "2024-04-25T11:52:33.205777Z",
          "iopub.status.idle": "2024-04-25T11:52:33.218195Z",
          "shell.execute_reply": "2024-04-25T11:52:33.216360Z"
        },
        "id": "41dff4db",
        "outputId": "7e3674f9-b51a-4718-b806-241c757969e7",
        "papermill": {
          "duration": 0.047315,
          "end_time": "2024-04-25T11:52:33.221148",
          "exception": false,
          "start_time": "2024-04-25T11:52:33.173833",
          "status": "completed"
        },
        "tags": []
      },
      "outputs": [
        {
          "data": {
            "text/plain": [
              "KNeighborsRegressor(n_neighbors=4)"
            ]
          },
          "execution_count": 27,
          "metadata": {},
          "output_type": "execute_result"
        }
      ],
      "source": [
        "from sklearn.neighbors import KNeighborsRegressor\n",
        "knr=KNeighborsRegressor(n_neighbors=4)\n",
        "\n",
        "knr.fit(X_train,y_train)"
      ]
    },
    {
      "cell_type": "code",
      "execution_count": 28,
      "id": "0cf19d52",
      "metadata": {
        "colab": {
          "base_uri": "https://localhost:8080/"
        },
        "execution": {
          "iopub.execute_input": "2024-04-25T11:52:33.284471Z",
          "iopub.status.busy": "2024-04-25T11:52:33.283365Z",
          "iopub.status.idle": "2024-04-25T11:52:33.353402Z",
          "shell.execute_reply": "2024-04-25T11:52:33.351830Z"
        },
        "id": "0cf19d52",
        "outputId": "88e1a000-a53e-4648-f8df-699421dc6b40",
        "papermill": {
          "duration": 0.104805,
          "end_time": "2024-04-25T11:52:33.356190",
          "exception": false,
          "start_time": "2024-04-25T11:52:33.251385",
          "status": "completed"
        },
        "tags": []
      },
      "outputs": [
        {
          "name": "stdout",
          "output_type": "stream",
          "text": [
            "Accuracy: 0.933 %\n"
          ]
        }
      ],
      "source": [
        "regression_acc(knr, 'KNeighbors Regressor')"
      ]
    },
    {
      "cell_type": "markdown",
      "id": "5aeac8a3",
      "metadata": {
        "id": "5aeac8a3",
        "papermill": {
          "duration": 0.032062,
          "end_time": "2024-04-25T11:52:34.219246",
          "exception": false,
          "start_time": "2024-04-25T11:52:34.187184",
          "status": "completed"
        },
        "tags": []
      },
      "source": [
        "### Support Vector Machines\n"
      ]
    },
    {
      "cell_type": "code",
      "execution_count": 29,
      "id": "67d3f2a0",
      "metadata": {
        "colab": {
          "base_uri": "https://localhost:8080/",
          "height": 75
        },
        "execution": {
          "iopub.execute_input": "2024-04-25T11:52:34.286831Z",
          "iopub.status.busy": "2024-04-25T11:52:34.286355Z",
          "iopub.status.idle": "2024-04-25T11:52:34.308140Z",
          "shell.execute_reply": "2024-04-25T11:52:34.306972Z"
        },
        "id": "67d3f2a0",
        "outputId": "451e6e2d-896c-4130-ea0c-8219da85960a",
        "papermill": {
          "duration": 0.057856,
          "end_time": "2024-04-25T11:52:34.310611",
          "exception": false,
          "start_time": "2024-04-25T11:52:34.252755",
          "status": "completed"
        },
        "tags": []
      },
      "outputs": [
        {
          "data": {
            "text/plain": [
              "SVR()"
            ]
          },
          "execution_count": 29,
          "metadata": {},
          "output_type": "execute_result"
        }
      ],
      "source": [
        "from sklearn import svm\n",
        "\n",
        "svm_reg = svm.SVR()\n",
        "svm_reg.fit(X_train, y_train)"
      ]
    },
    {
      "cell_type": "code",
      "execution_count": 30,
      "id": "1f43871c",
      "metadata": {
        "colab": {
          "base_uri": "https://localhost:8080/"
        },
        "execution": {
          "iopub.execute_input": "2024-04-25T11:52:34.377255Z",
          "iopub.status.busy": "2024-04-25T11:52:34.376144Z",
          "iopub.status.idle": "2024-04-25T11:52:34.419642Z",
          "shell.execute_reply": "2024-04-25T11:52:34.418310Z"
        },
        "id": "1f43871c",
        "outputId": "6dd87665-c389-4825-b991-9996b5a0d72a",
        "papermill": {
          "duration": 0.079643,
          "end_time": "2024-04-25T11:52:34.422287",
          "exception": false,
          "start_time": "2024-04-25T11:52:34.342644",
          "status": "completed"
        },
        "tags": []
      },
      "outputs": [
        {
          "name": "stdout",
          "output_type": "stream",
          "text": [
            "Accuracy: 0.871 %\n"
          ]
        }
      ],
      "source": [
        "regression_acc(svm_reg, 'Support Vector Machines(Regression)')"
      ]
    },
    {
      "cell_type": "markdown",
      "id": "7a9337b0",
      "metadata": {
        "id": "7a9337b0",
        "papermill": {
          "duration": 0.032563,
          "end_time": "2024-04-25T11:52:34.486834",
          "exception": false,
          "start_time": "2024-04-25T11:52:34.454271",
          "status": "completed"
        },
        "tags": []
      },
      "source": [
        "### Random Forest\n"
      ]
    },
    {
      "cell_type": "code",
      "execution_count": 64,
      "id": "92d96c68",
      "metadata": {
        "colab": {
          "base_uri": "https://localhost:8080/",
          "height": 75
        },
        "execution": {
          "iopub.execute_input": "2024-04-25T11:52:34.555332Z",
          "iopub.status.busy": "2024-04-25T11:52:34.554253Z",
          "iopub.status.idle": "2024-04-25T11:52:34.924063Z",
          "shell.execute_reply": "2024-04-25T11:52:34.922915Z"
        },
        "id": "92d96c68",
        "outputId": "1232366f-9314-42c5-82de-6c88c96d1642",
        "papermill": {
          "duration": 0.407307,
          "end_time": "2024-04-25T11:52:34.926711",
          "exception": false,
          "start_time": "2024-04-25T11:52:34.519404",
          "status": "completed"
        },
        "tags": []
      },
      "outputs": [
        {
          "data": {
            "text/plain": [
              "RandomForestRegressor()"
            ]
          },
          "execution_count": 64,
          "metadata": {},
          "output_type": "execute_result"
        }
      ],
      "source": [
        "from sklearn.ensemble import RandomForestRegressor\n",
        "from sklearn.model_selection import GridSearchCV\n",
        "\n",
        "forest = RandomForestRegressor()\n",
        "forest.fit(X_train, y_train)"
      ]
    },
    {
      "cell_type": "code",
      "execution_count": 32,
      "id": "a34bcda4",
      "metadata": {
        "colab": {
          "base_uri": "https://localhost:8080/"
        },
        "execution": {
          "iopub.execute_input": "2024-04-25T11:52:34.994128Z",
          "iopub.status.busy": "2024-04-25T11:52:34.993322Z",
          "iopub.status.idle": "2024-04-25T11:52:35.030211Z",
          "shell.execute_reply": "2024-04-25T11:52:35.028998Z"
        },
        "id": "a34bcda4",
        "outputId": "d1bd88dd-0eed-4f00-8897-bea412519f13",
        "papermill": {
          "duration": 0.073595,
          "end_time": "2024-04-25T11:52:35.032518",
          "exception": false,
          "start_time": "2024-04-25T11:52:34.958923",
          "status": "completed"
        },
        "tags": []
      },
      "outputs": [
        {
          "name": "stdout",
          "output_type": "stream",
          "text": [
            "RMSE of Forest = 0.10\n",
            "Accuracy: 0.983 %\n"
          ]
        }
      ],
      "source": [
        "from sklearn.metrics import mean_squared_error\n",
        "\n",
        "pred = forest.predict(X_train)\n",
        "MSE = mean_squared_error(y_train, pred)\n",
        "RMSE = np.sqrt(MSE)\n",
        "msg = \"%s = %.2f\" % ('Forest', round(RMSE, 2))\n",
        "print('RMSE of', msg)\n",
        "\n",
        "\n",
        "regression_acc(forest, 'Random Forest Regressor 1')"
      ]
    },
    {
      "cell_type": "markdown",
      "id": "b22124a7",
      "metadata": {
        "id": "b22124a7",
        "papermill": {
          "duration": 0.034492,
          "end_time": "2024-04-25T11:52:35.099019",
          "exception": false,
          "start_time": "2024-04-25T11:52:35.064527",
          "status": "completed"
        },
        "tags": []
      },
      "source": [
        "#### Hypertuning parameters of Random Forest"
      ]
    },
    {
      "cell_type": "code",
      "execution_count": 33,
      "id": "a2199fcd",
      "metadata": {
        "colab": {
          "base_uri": "https://localhost:8080/",
          "height": 92
        },
        "execution": {
          "iopub.execute_input": "2024-04-25T11:52:35.167827Z",
          "iopub.status.busy": "2024-04-25T11:52:35.167043Z",
          "iopub.status.idle": "2024-04-25T11:52:40.842118Z",
          "shell.execute_reply": "2024-04-25T11:52:40.840940Z"
        },
        "id": "a2199fcd",
        "outputId": "8ab6a1ff-7c6a-46fb-92a6-a8da97f34f28",
        "papermill": {
          "duration": 5.713542,
          "end_time": "2024-04-25T11:52:40.845050",
          "exception": false,
          "start_time": "2024-04-25T11:52:35.131508",
          "status": "completed"
        },
        "tags": []
      },
      "outputs": [
        {
          "data": {
            "text/plain": [
              "RandomForestRegressor(bootstrap=False, max_depth=10, max_features=10,\n",
              "                      n_estimators=25)"
            ]
          },
          "execution_count": 33,
          "metadata": {},
          "output_type": "execute_result"
        }
      ],
      "source": [
        "param_grid = {'n_estimators': [10, 25], 'max_features': [5, 10],\n",
        " 'max_depth': [10, 50, None], 'bootstrap': [True, False]}\n",
        "\n",
        "forest_gs = GridSearchCV(forest, param_grid, cv=5, scoring='neg_mean_squared_error').fit(X_train, y_train)\n",
        "forest_gs.best_estimator_"
      ]
    },
    {
      "cell_type": "code",
      "execution_count": 34,
      "id": "c2c38771",
      "metadata": {
        "colab": {
          "base_uri": "https://localhost:8080/"
        },
        "execution": {
          "iopub.execute_input": "2024-04-25T11:52:40.914434Z",
          "iopub.status.busy": "2024-04-25T11:52:40.913963Z",
          "iopub.status.idle": "2024-04-25T11:52:40.935416Z",
          "shell.execute_reply": "2024-04-25T11:52:40.933777Z"
        },
        "id": "c2c38771",
        "outputId": "96af569e-2ee6-4bce-d7df-842ad41bc46c",
        "papermill": {
          "duration": 0.059779,
          "end_time": "2024-04-25T11:52:40.938191",
          "exception": false,
          "start_time": "2024-04-25T11:52:40.878412",
          "status": "completed"
        },
        "tags": []
      },
      "outputs": [
        {
          "name": "stdout",
          "output_type": "stream",
          "text": [
            "Accuracy: 0.978 %\n",
            "RMSE of Forest Grid Search CV = 0.01\n"
          ]
        }
      ],
      "source": [
        "regression_acc(forest_gs.best_estimator_, 'Random Forest Regressor(Grid Search CV)')\n",
        "\n",
        "pred = forest_gs.predict(X_train)\n",
        "MSE = mean_squared_error(y_train, pred)\n",
        "RMSE = np.sqrt(MSE)\n",
        "msg = \"%s = %.2f\" % ('Forest Grid Search CV', round(RMSE, 2))\n",
        "print('RMSE of', msg)"
      ]
    },
    {
      "cell_type": "markdown",
      "id": "gYkY7sCKyxa1",
      "metadata": {
        "id": "gYkY7sCKyxa1"
      },
      "source": [
        "### Gradient Boosting"
      ]
    },
    {
      "cell_type": "code",
      "execution_count": 35,
      "id": "yMZ8c81ly1FB",
      "metadata": {
        "id": "yMZ8c81ly1FB"
      },
      "outputs": [],
      "source": [
        "from sklearn.ensemble import GradientBoostingClassifier"
      ]
    },
    {
      "cell_type": "code",
      "execution_count": 36,
      "id": "shoP83iVzIvY",
      "metadata": {
        "colab": {
          "base_uri": "https://localhost:8080/",
          "height": 75
        },
        "id": "shoP83iVzIvY",
        "outputId": "423ea077-4dc3-40a1-bcc2-dad147f12118"
      },
      "outputs": [
        {
          "data": {
            "text/plain": [
              "GradientBoostingClassifier(random_state=0)"
            ]
          },
          "execution_count": 36,
          "metadata": {},
          "output_type": "execute_result"
        }
      ],
      "source": [
        "model_GradientBoosting  = GradientBoostingClassifier(random_state=0)\n",
        "model_GradientBoosting.fit(X_train, y_train)"
      ]
    },
    {
      "cell_type": "code",
      "execution_count": 37,
      "id": "b3W6xvNd7A-p",
      "metadata": {
        "colab": {
          "base_uri": "https://localhost:8080/",
          "height": 730
        },
        "id": "b3W6xvNd7A-p",
        "outputId": "6936290f-7f88-458a-f115-99db752548b4"
      },
      "outputs": [
        {
          "name": "stdout",
          "output_type": "stream",
          "text": [
            "Classification Report:\n",
            "               precision    recall  f1-score   support\n",
            "\n",
            "           0       0.93      0.98      0.95       214\n",
            "           1       0.81      0.83      0.82       229\n",
            "           2       0.84      0.78      0.81       229\n",
            "           3       0.87      0.77      0.82       238\n",
            "           4       0.85      0.97      0.90       271\n",
            "           5       1.00      0.95      0.97       240\n",
            "           6       1.00      1.00      1.00       249\n",
            "\n",
            "    accuracy                           0.90      1670\n",
            "   macro avg       0.90      0.90      0.90      1670\n",
            "weighted avg       0.90      0.90      0.90      1670\n",
            "\n"
          ]
        },
        {
          "data": {
            "image/png": "[encoded data removed]",
            "text/plain": [
              "<Figure size 432x288 with 2 Axes>"
            ]
          },
          "metadata": {
            "needs_background": "light"
          },
          "output_type": "display_data"
        },
        {
          "name": "stdout",
          "output_type": "stream",
          "text": [
            "Accuracy: 0.899\n"
          ]
        }
      ],
      "source": [
        "classification_acc(model_GradientBoosting, 'Gradient Boosting Clasifier')"
      ]
    },
    {
      "cell_type": "markdown",
      "id": "AjolnsndpjqT",
      "metadata": {
        "id": "AjolnsndpjqT"
      },
      "source": [
        "### LGBMClassifier"
      ]
    },
    {
      "cell_type": "code",
      "execution_count": 38,
      "id": "9aRR9zj68Tpu",
      "metadata": {
        "id": "9aRR9zj68Tpu"
      },
      "outputs": [],
      "source": [
        "from sklearn.preprocessing import LabelEncoder\n",
        "from sklearn.ensemble import RandomForestClassifier\n",
        "from  xgboost import XGBClassifier\n",
        "from lightgbm import LGBMClassifier\n",
        "from sklearn.preprocessing import MaxAbsScaler,RobustScaler\n",
        "from sklearn.metrics import classification_report,confusion_matrix,accuracy_score\n",
        "from sklearn.model_selection import train_test_split,cross_val_score"
      ]
    },
    {
      "cell_type": "code",
      "execution_count": 39,
      "id": "1DKwZWMOpyCF",
      "metadata": {
        "colab": {
          "base_uri": "https://localhost:8080/",
          "height": 1000
        },
        "collapsed": true,
        "id": "1DKwZWMOpyCF",
        "outputId": "f7c204c7-fa0a-44b2-decc-a1a581db1225"
      },
      "outputs": [
        {
          "name": "stdout",
          "output_type": "stream",
          "text": [
            "[LightGBM] [Info] Auto-choosing row-wise multi-threading, the overhead of testing was 0.000196 seconds.\n",
            "You can set `force_row_wise=true` to remove the overhead.\n",
            "And if memory is not enough, you can set `force_col_wise=true`.\n",
            "[LightGBM] [Info] Total Bins 845\n",
            "[LightGBM] [Info] Number of data points in the train set: 417, number of used features: 14\n",
            "[LightGBM] [Info] Start training from score -2.062794\n",
            "[LightGBM] [Info] Start training from score -2.062794\n",
            "[LightGBM] [Info] Start training from score -2.182939\n",
            "[LightGBM] [Info] Start training from score -2.081843\n",
            "[LightGBM] [Info] Start training from score -1.651060\n",
            "[LightGBM] [Info] Start training from score -1.990035\n",
            "[LightGBM] [Info] Start training from score -1.715598\n",
            "[LightGBM] [Warning] No further splits with positive gain, best gain: -inf\n",
            "[LightGBM] [Warning] No further splits with positive gain, best gain: -inf\n",
            "[LightGBM] [Warning] No further splits with positive gain, best gain: -inf\n",
            "[LightGBM] [Warning] No further splits with positive gain, best gain: -inf\n",
            "[LightGBM] [Warning] No further splits with positive gain, best gain: -inf\n",
            "[LightGBM] [Warning] No further splits with positive gain, best gain: -inf\n",
            "[LightGBM] [Warning] No further splits with positive gain, best gain: -inf\n",
            "[LightGBM] [Warning] No further splits with positive gain, best gain: -inf\n",
            "[LightGBM] [Warning] No further splits with positive gain, best gain: -inf\n",
            "[LightGBM] [Warning] No further splits with positive gain, best gain: -inf\n",
            "[LightGBM] [Warning] No further splits with positive gain, best gain: -inf\n",
            "[LightGBM] [Warning] No further splits with positive gain, best gain: -inf\n",
            "[LightGBM] [Warning] No further splits with positive gain, best gain: -inf\n",
            "[LightGBM] [Warning] No further splits with positive gain, best gain: -inf\n",
            "[LightGBM] [Warning] No further splits with positive gain, best gain: -inf\n",
            "[LightGBM] [Warning] No further splits with positive gain, best gain: -inf\n",
            "[LightGBM] [Warning] No further splits with positive gain, best gain: -inf\n",
            "[LightGBM] [Warning] No further splits with positive gain, best gain: -inf\n",
            "[LightGBM] [Warning] No further splits with positive gain, best gain: -inf\n",
            "[LightGBM] [Warning] No further splits with positive gain, best gain: -inf\n",
            "[LightGBM] [Warning] No further splits with positive gain, best gain: -inf\n",
            "[LightGBM] [Warning] No further splits with positive gain, best gain: -inf\n",
            "[LightGBM] [Warning] No further splits with positive gain, best gain: -inf\n",
            "[LightGBM] [Warning] No further splits with positive gain, best gain: -inf\n",
            "[LightGBM] [Warning] No further splits with positive gain, best gain: -inf\n",
            "[LightGBM] [Warning] No further splits with positive gain, best gain: -inf\n",
            "[LightGBM] [Warning] No further splits with positive gain, best gain: -inf\n",
            "[LightGBM] [Warning] No further splits with positive gain, best gain: -inf\n",
            "[LightGBM] [Warning] No further splits with positive gain, best gain: -inf\n",
            "[LightGBM] [Warning] No further splits with positive gain, best gain: -inf\n",
            "[LightGBM] [Warning] No further splits with positive gain, best gain: -inf\n",
            "[LightGBM] [Warning] No further splits with positive gain, best gain: -inf\n",
            "[LightGBM] [Warning] No further splits with positive gain, best gain: -inf\n",
            "[LightGBM] [Warning] No further splits with positive gain, best gain: -inf\n",
            "[LightGBM] [Warning] No further splits with positive gain, best gain: -inf\n",
            "[LightGBM] [Warning] No further splits with positive gain, best gain: -inf\n",
            "[LightGBM] [Warning] No further splits with positive gain, best gain: -inf\n",
            "[LightGBM] [Warning] No further splits with positive gain, best gain: -inf\n",
            "[LightGBM] [Warning] No further splits with positive gain, best gain: -inf\n",
            "[LightGBM] [Warning] No further splits with positive gain, best gain: -inf\n",
            "[LightGBM] [Warning] No further splits with positive gain, best gain: -inf\n",
            "[LightGBM] [Warning] No further splits with positive gain, best gain: -inf\n",
            "[LightGBM] [Warning] No further splits with positive gain, best gain: -inf\n",
            "[LightGBM] [Warning] No further splits with positive gain, best gain: -inf\n",
            "[LightGBM] [Warning] No further splits with positive gain, best gain: -inf\n",
            "[LightGBM] [Warning] No further splits with positive gain, best gain: -inf\n",
            "[LightGBM] [Warning] No further splits with positive gain, best gain: -inf\n",
            "[LightGBM] [Warning] No further splits with positive gain, best gain: -inf\n",
            "[LightGBM] [Warning] No further splits with positive gain, best gain: -inf\n",
            "[LightGBM] [Warning] No further splits with positive gain, best gain: -inf\n",
            "[LightGBM] [Warning] No further splits with positive gain, best gain: -inf\n",
            "[LightGBM] [Warning] No further splits with positive gain, best gain: -inf\n",
            "[LightGBM] [Warning] No further splits with positive gain, best gain: -inf\n",
            "[LightGBM] [Warning] No further splits with positive gain, best gain: -inf\n",
            "[LightGBM] [Warning] No further splits with positive gain, best gain: -inf\n",
            "[LightGBM] [Warning] No further splits with positive gain, best gain: -inf\n",
            "[LightGBM] [Warning] No further splits with positive gain, best gain: -inf\n",
            "[LightGBM] [Warning] No further splits with positive gain, best gain: -inf\n",
            "[LightGBM] [Warning] No further splits with positive gain, best gain: -inf\n",
            "[LightGBM] [Warning] No further splits with positive gain, best gain: -inf\n",
            "[LightGBM] [Warning] No further splits with positive gain, best gain: -inf\n",
            "[LightGBM] [Warning] No further splits with positive gain, best gain: -inf\n",
            "[LightGBM] [Warning] No further splits with positive gain, best gain: -inf\n",
            "[LightGBM] [Warning] No further splits with positive gain, best gain: -inf\n",
            "[LightGBM] [Warning] No further splits with positive gain, best gain: -inf\n",
            "[LightGBM] [Warning] No further splits with positive gain, best gain: -inf\n",
            "[LightGBM] [Warning] No further splits with positive gain, best gain: -inf\n",
            "[LightGBM] [Warning] No further splits with positive gain, best gain: -inf\n",
            "[LightGBM] [Warning] No further splits with positive gain, best gain: -inf\n",
            "[LightGBM] [Warning] No further splits with positive gain, best gain: -inf\n",
            "[LightGBM] [Warning] No further splits with positive gain, best gain: -inf\n",
            "[LightGBM] [Warning] No further splits with positive gain, best gain: -inf\n",
            "[LightGBM] [Warning] No further splits with positive gain, best gain: -inf\n",
            "[LightGBM] [Warning] No further splits with positive gain, best gain: -inf\n",
            "[LightGBM] [Warning] No further splits with positive gain, best gain: -inf\n",
            "[LightGBM] [Warning] No further splits with positive gain, best gain: -inf\n",
            "[LightGBM] [Warning] No further splits with positive gain, best gain: -inf\n",
            "[LightGBM] [Warning] No further splits with positive gain, best gain: -inf\n",
            "[LightGBM] [Warning] No further splits with positive gain, best gain: -inf\n",
            "[LightGBM] [Warning] No further splits with positive gain, best gain: -inf\n",
            "[LightGBM] [Warning] No further splits with positive gain, best gain: -inf\n",
            "[LightGBM] [Warning] No further splits with positive gain, best gain: -inf\n",
            "[LightGBM] [Warning] No further splits with positive gain, best gain: -inf\n",
            "[LightGBM] [Warning] No further splits with positive gain, best gain: -inf\n",
            "[LightGBM] [Warning] No further splits with positive gain, best gain: -inf\n",
            "[LightGBM] [Warning] No further splits with positive gain, best gain: -inf\n",
            "[LightGBM] [Warning] No further splits with positive gain, best gain: -inf\n",
            "[LightGBM] [Warning] No further splits with positive gain, best gain: -inf\n",
            "[LightGBM] [Warning] No further splits with positive gain, best gain: -inf\n",
            "[LightGBM] [Warning] No further splits with positive gain, best gain: -inf\n",
            "[LightGBM] [Warning] No further splits with positive gain, best gain: -inf\n",
            "[LightGBM] [Warning] No further splits with positive gain, best gain: -inf\n",
            "[LightGBM] [Warning] No further splits with positive gain, best gain: -inf\n",
            "[LightGBM] [Warning] No further splits with positive gain, best gain: -inf\n",
            "[LightGBM] [Warning] No further splits with positive gain, best gain: -inf\n",
            "[LightGBM] [Warning] No further splits with positive gain, best gain: -inf\n",
            "[LightGBM] [Warning] No further splits with positive gain, best gain: -inf\n",
            "[LightGBM] [Warning] No further splits with positive gain, best gain: -inf\n",
            "[LightGBM] [Warning] No further splits with positive gain, best gain: -inf\n",
            "[LightGBM] [Warning] No further splits with positive gain, best gain: -inf\n",
            "[LightGBM] [Warning] No further splits with positive gain, best gain: -inf\n",
            "[LightGBM] [Warning] No further splits with positive gain, best gain: -inf\n",
            "[LightGBM] [Warning] No further splits with positive gain, best gain: -inf\n",
            "[LightGBM] [Warning] No further splits with positive gain, best gain: -inf\n",
            "[LightGBM] [Warning] No further splits with positive gain, best gain: -inf\n",
            "[LightGBM] [Warning] No further splits with positive gain, best gain: -inf\n",
            "[LightGBM] [Warning] No further splits with positive gain, best gain: -inf\n",
            "[LightGBM] [Warning] No further splits with positive gain, best gain: -inf\n",
            "[LightGBM] [Warning] No further splits with positive gain, best gain: -inf\n",
            "[LightGBM] [Warning] No further splits with positive gain, best gain: -inf\n",
            "[LightGBM] [Warning] No further splits with positive gain, best gain: -inf\n",
            "[LightGBM] [Warning] No further splits with positive gain, best gain: -inf\n",
            "[LightGBM] [Warning] No further splits with positive gain, best gain: -inf\n",
            "[LightGBM] [Warning] No further splits with positive gain, best gain: -inf\n",
            "[LightGBM] [Warning] No further splits with positive gain, best gain: -inf\n",
            "[LightGBM] [Warning] No further splits with positive gain, best gain: -inf\n",
            "[LightGBM] [Warning] No further splits with positive gain, best gain: -inf\n",
            "[LightGBM] [Warning] No further splits with positive gain, best gain: -inf\n",
            "[LightGBM] [Warning] No further splits with positive gain, best gain: -inf\n",
            "[LightGBM] [Warning] No further splits with positive gain, best gain: -inf\n",
            "[LightGBM] [Warning] No further splits with positive gain, best gain: -inf\n",
            "[LightGBM] [Warning] No further splits with positive gain, best gain: -inf\n",
            "[LightGBM] [Warning] No further splits with positive gain, best gain: -inf\n",
            "[LightGBM] [Warning] No further splits with positive gain, best gain: -inf\n",
            "[LightGBM] [Warning] No further splits with positive gain, best gain: -inf\n",
            "[LightGBM] [Warning] No further splits with positive gain, best gain: -inf\n",
            "[LightGBM] [Warning] No further splits with positive gain, best gain: -inf\n",
            "[LightGBM] [Warning] No further splits with positive gain, best gain: -inf\n",
            "[LightGBM] [Warning] No further splits with positive gain, best gain: -inf\n",
            "[LightGBM] [Warning] No further splits with positive gain, best gain: -inf\n",
            "[LightGBM] [Warning] No further splits with positive gain, best gain: -inf\n",
            "[LightGBM] [Warning] No further splits with positive gain, best gain: -inf\n",
            "[LightGBM] [Warning] No further splits with positive gain, best gain: -inf\n",
            "[LightGBM] [Warning] No further splits with positive gain, best gain: -inf\n",
            "[LightGBM] [Warning] No further splits with positive gain, best gain: -inf\n",
            "[LightGBM] [Warning] No further splits with positive gain, best gain: -inf\n",
            "[LightGBM] [Warning] No further splits with positive gain, best gain: -inf\n",
            "[LightGBM] [Warning] No further splits with positive gain, best gain: -inf\n",
            "[LightGBM] [Warning] No further splits with positive gain, best gain: -inf\n",
            "[LightGBM] [Warning] No further splits with positive gain, best gain: -inf\n",
            "[LightGBM] [Warning] No further splits with positive gain, best gain: -inf\n",
            "[LightGBM] [Warning] No further splits with positive gain, best gain: -inf\n",
            "[LightGBM] [Warning] No further splits with positive gain, best gain: -inf\n",
            "[LightGBM] [Warning] No further splits with positive gain, best gain: -inf\n",
            "[LightGBM] [Warning] No further splits with positive gain, best gain: -inf\n",
            "[LightGBM] [Warning] No further splits with positive gain, best gain: -inf\n",
            "[LightGBM] [Warning] No further splits with positive gain, best gain: -inf\n",
            "[LightGBM] [Warning] No further splits with positive gain, best gain: -inf\n",
            "[LightGBM] [Warning] No further splits with positive gain, best gain: -inf\n",
            "[LightGBM] [Warning] No further splits with positive gain, best gain: -inf\n",
            "[LightGBM] [Warning] No further splits with positive gain, best gain: -inf\n",
            "[LightGBM] [Warning] No further splits with positive gain, best gain: -inf\n",
            "[LightGBM] [Warning] No further splits with positive gain, best gain: -inf\n",
            "[LightGBM] [Warning] No further splits with positive gain, best gain: -inf\n",
            "[LightGBM] [Warning] No further splits with positive gain, best gain: -inf\n",
            "[LightGBM] [Warning] No further splits with positive gain, best gain: -inf\n",
            "[LightGBM] [Warning] No further splits with positive gain, best gain: -inf\n",
            "[LightGBM] [Warning] No further splits with positive gain, best gain: -inf\n",
            "[LightGBM] [Warning] No further splits with positive gain, best gain: -inf\n",
            "[LightGBM] [Warning] No further splits with positive gain, best gain: -inf\n",
            "[LightGBM] [Warning] No further splits with positive gain, best gain: -inf\n",
            "[LightGBM] [Warning] No further splits with positive gain, best gain: -inf\n",
            "[LightGBM] [Warning] No further splits with positive gain, best gain: -inf\n",
            "[LightGBM] [Warning] No further splits with positive gain, best gain: -inf\n",
            "[LightGBM] [Warning] No further splits with positive gain, best gain: -inf\n",
            "[LightGBM] [Warning] No further splits with positive gain, best gain: -inf\n",
            "[LightGBM] [Warning] No further splits with positive gain, best gain: -inf\n",
            "[LightGBM] [Warning] No further splits with positive gain, best gain: -inf\n",
            "[LightGBM] [Warning] No further splits with positive gain, best gain: -inf\n",
            "[LightGBM] [Warning] No further splits with positive gain, best gain: -inf\n",
            "[LightGBM] [Warning] No further splits with positive gain, best gain: -inf\n",
            "[LightGBM] [Warning] No further splits with positive gain, best gain: -inf\n",
            "[LightGBM] [Warning] No further splits with positive gain, best gain: -inf\n",
            "[LightGBM] [Warning] No further splits with positive gain, best gain: -inf\n",
            "[LightGBM] [Warning] No further splits with positive gain, best gain: -inf\n",
            "[LightGBM] [Warning] No further splits with positive gain, best gain: -inf\n",
            "[LightGBM] [Warning] No further splits with positive gain, best gain: -inf\n",
            "[LightGBM] [Warning] No further splits with positive gain, best gain: -inf\n",
            "[LightGBM] [Warning] No further splits with positive gain, best gain: -inf\n",
            "[LightGBM] [Warning] No further splits with positive gain, best gain: -inf\n",
            "[LightGBM] [Warning] No further splits with positive gain, best gain: -inf\n",
            "[LightGBM] [Warning] No further splits with positive gain, best gain: -inf\n",
            "[LightGBM] [Warning] No further splits with positive gain, best gain: -inf\n",
            "[LightGBM] [Warning] No further splits with positive gain, best gain: -inf\n",
            "[LightGBM] [Warning] No further splits with positive gain, best gain: -inf\n",
            "[LightGBM] [Warning] No further splits with positive gain, best gain: -inf\n",
            "[LightGBM] [Warning] No further splits with positive gain, best gain: -inf\n",
            "[LightGBM] [Warning] No further splits with positive gain, best gain: -inf\n",
            "[LightGBM] [Warning] No further splits with positive gain, best gain: -inf\n",
            "[LightGBM] [Warning] No further splits with positive gain, best gain: -inf\n",
            "[LightGBM] [Warning] No further splits with positive gain, best gain: -inf\n",
            "[LightGBM] [Warning] No further splits with positive gain, best gain: -inf\n",
            "[LightGBM] [Warning] No further splits with positive gain, best gain: -inf\n",
            "[LightGBM] [Warning] No further splits with positive gain, best gain: -inf\n",
            "[LightGBM] [Warning] No further splits with positive gain, best gain: -inf\n",
            "[LightGBM] [Warning] No further splits with positive gain, best gain: -inf\n",
            "[LightGBM] [Warning] No further splits with positive gain, best gain: -inf\n",
            "[LightGBM] [Warning] No further splits with positive gain, best gain: -inf\n",
            "[LightGBM] [Warning] No further splits with positive gain, best gain: -inf\n",
            "[LightGBM] [Warning] No further splits with positive gain, best gain: -inf\n",
            "[LightGBM] [Warning] No further splits with positive gain, best gain: -inf\n",
            "[LightGBM] [Warning] No further splits with positive gain, best gain: -inf\n",
            "[LightGBM] [Warning] No further splits with positive gain, best gain: -inf\n",
            "[LightGBM] [Warning] No further splits with positive gain, best gain: -inf\n",
            "[LightGBM] [Warning] No further splits with positive gain, best gain: -inf\n",
            "[LightGBM] [Warning] No further splits with positive gain, best gain: -inf\n",
            "[LightGBM] [Warning] No further splits with positive gain, best gain: -inf\n",
            "[LightGBM] [Warning] No further splits with positive gain, best gain: -inf\n",
            "[LightGBM] [Warning] No further splits with positive gain, best gain: -inf\n",
            "[LightGBM] [Warning] No further splits with positive gain, best gain: -inf\n",
            "[LightGBM] [Warning] No further splits with positive gain, best gain: -inf\n",
            "[LightGBM] [Warning] No further splits with positive gain, best gain: -inf\n",
            "[LightGBM] [Warning] No further splits with positive gain, best gain: -inf\n",
            "[LightGBM] [Warning] No further splits with positive gain, best gain: -inf\n",
            "[LightGBM] [Warning] No further splits with positive gain, best gain: -inf\n",
            "[LightGBM] [Warning] No further splits with positive gain, best gain: -inf\n",
            "[LightGBM] [Warning] No further splits with positive gain, best gain: -inf\n",
            "[LightGBM] [Warning] No further splits with positive gain, best gain: -inf\n",
            "[LightGBM] [Warning] No further splits with positive gain, best gain: -inf\n",
            "[LightGBM] [Warning] No further splits with positive gain, best gain: -inf\n",
            "[LightGBM] [Warning] No further splits with positive gain, best gain: -inf\n",
            "[LightGBM] [Warning] No further splits with positive gain, best gain: -inf\n",
            "[LightGBM] [Warning] No further splits with positive gain, best gain: -inf\n",
            "[LightGBM] [Warning] No further splits with positive gain, best gain: -inf\n",
            "[LightGBM] [Warning] No further splits with positive gain, best gain: -inf\n",
            "[LightGBM] [Warning] No further splits with positive gain, best gain: -inf\n",
            "[LightGBM] [Warning] No further splits with positive gain, best gain: -inf\n",
            "[LightGBM] [Warning] No further splits with positive gain, best gain: -inf\n",
            "[LightGBM] [Warning] No further splits with positive gain, best gain: -inf\n",
            "[LightGBM] [Warning] No further splits with positive gain, best gain: -inf\n",
            "[LightGBM] [Warning] No further splits with positive gain, best gain: -inf\n",
            "[LightGBM] [Warning] No further splits with positive gain, best gain: -inf\n",
            "[LightGBM] [Warning] No further splits with positive gain, best gain: -inf\n",
            "[LightGBM] [Warning] No further splits with positive gain, best gain: -inf\n",
            "[LightGBM] [Warning] No further splits with positive gain, best gain: -inf\n",
            "[LightGBM] [Warning] No further splits with positive gain, best gain: -inf\n",
            "[LightGBM] [Warning] No further splits with positive gain, best gain: -inf\n",
            "[LightGBM] [Warning] No further splits with positive gain, best gain: -inf\n",
            "[LightGBM] [Warning] No further splits with positive gain, best gain: -inf\n",
            "[LightGBM] [Warning] No further splits with positive gain, best gain: -inf\n",
            "[LightGBM] [Warning] No further splits with positive gain, best gain: -inf\n",
            "[LightGBM] [Warning] No further splits with positive gain, best gain: -inf\n",
            "[LightGBM] [Warning] No further splits with positive gain, best gain: -inf\n",
            "[LightGBM] [Warning] No further splits with positive gain, best gain: -inf\n",
            "[LightGBM] [Warning] No further splits with positive gain, best gain: -inf\n",
            "[LightGBM] [Warning] No further splits with positive gain, best gain: -inf\n",
            "[LightGBM] [Warning] No further splits with positive gain, best gain: -inf\n",
            "[LightGBM] [Warning] No further splits with positive gain, best gain: -inf\n",
            "[LightGBM] [Warning] No further splits with positive gain, best gain: -inf\n",
            "[LightGBM] [Warning] No further splits with positive gain, best gain: -inf\n",
            "[LightGBM] [Warning] No further splits with positive gain, best gain: -inf\n",
            "[LightGBM] [Warning] No further splits with positive gain, best gain: -inf\n",
            "[LightGBM] [Warning] No further splits with positive gain, best gain: -inf\n",
            "[LightGBM] [Warning] No further splits with positive gain, best gain: -inf\n",
            "[LightGBM] [Warning] No further splits with positive gain, best gain: -inf\n",
            "[LightGBM] [Warning] No further splits with positive gain, best gain: -inf\n",
            "[LightGBM] [Warning] No further splits with positive gain, best gain: -inf\n",
            "[LightGBM] [Warning] No further splits with positive gain, best gain: -inf\n",
            "[LightGBM] [Warning] No further splits with positive gain, best gain: -inf\n",
            "[LightGBM] [Warning] No further splits with positive gain, best gain: -inf\n",
            "[LightGBM] [Warning] No further splits with positive gain, best gain: -inf\n",
            "[LightGBM] [Warning] No further splits with positive gain, best gain: -inf\n",
            "[LightGBM] [Warning] No further splits with positive gain, best gain: -inf\n",
            "[LightGBM] [Warning] No further splits with positive gain, best gain: -inf\n",
            "[LightGBM] [Warning] No further splits with positive gain, best gain: -inf\n",
            "[LightGBM] [Warning] No further splits with positive gain, best gain: -inf\n",
            "[LightGBM] [Warning] No further splits with positive gain, best gain: -inf\n",
            "[LightGBM] [Warning] No further splits with positive gain, best gain: -inf\n",
            "[LightGBM] [Warning] No further splits with positive gain, best gain: -inf\n",
            "[LightGBM] [Warning] No further splits with positive gain, best gain: -inf\n",
            "[LightGBM] [Warning] No further splits with positive gain, best gain: -inf\n",
            "[LightGBM] [Warning] No further splits with positive gain, best gain: -inf\n",
            "[LightGBM] [Warning] No further splits with positive gain, best gain: -inf\n",
            "[LightGBM] [Warning] No further splits with positive gain, best gain: -inf\n",
            "[LightGBM] [Warning] No further splits with positive gain, best gain: -inf\n",
            "[LightGBM] [Warning] No further splits with positive gain, best gain: -inf\n",
            "[LightGBM] [Warning] No further splits with positive gain, best gain: -inf\n",
            "[LightGBM] [Warning] No further splits with positive gain, best gain: -inf\n",
            "[LightGBM] [Warning] No further splits with positive gain, best gain: -inf\n",
            "[LightGBM] [Warning] No further splits with positive gain, best gain: -inf\n",
            "[LightGBM] [Warning] No further splits with positive gain, best gain: -inf\n",
            "[LightGBM] [Warning] No further splits with positive gain, best gain: -inf\n",
            "[LightGBM] [Warning] No further splits with positive gain, best gain: -inf\n",
            "[LightGBM] [Warning] No further splits with positive gain, best gain: -inf\n",
            "[LightGBM] [Warning] No further splits with positive gain, best gain: -inf\n",
            "[LightGBM] [Warning] No further splits with positive gain, best gain: -inf\n",
            "[LightGBM] [Warning] No further splits with positive gain, best gain: -inf\n",
            "[LightGBM] [Warning] No further splits with positive gain, best gain: -inf\n",
            "[LightGBM] [Warning] No further splits with positive gain, best gain: -inf\n",
            "[LightGBM] [Warning] No further splits with positive gain, best gain: -inf\n",
            "[LightGBM] [Warning] No further splits with positive gain, best gain: -inf\n",
            "[LightGBM] [Warning] No further splits with positive gain, best gain: -inf\n",
            "[LightGBM] [Warning] No further splits with positive gain, best gain: -inf\n",
            "[LightGBM] [Warning] No further splits with positive gain, best gain: -inf\n",
            "[LightGBM] [Warning] No further splits with positive gain, best gain: -inf\n",
            "[LightGBM] [Warning] No further splits with positive gain, best gain: -inf\n",
            "[LightGBM] [Warning] No further splits with positive gain, best gain: -inf\n",
            "[LightGBM] [Warning] No further splits with positive gain, best gain: -inf\n",
            "[LightGBM] [Warning] No further splits with positive gain, best gain: -inf\n",
            "[LightGBM] [Warning] No further splits with positive gain, best gain: -inf\n",
            "[LightGBM] [Warning] No further splits with positive gain, best gain: -inf\n",
            "[LightGBM] [Warning] No further splits with positive gain, best gain: -inf\n",
            "[LightGBM] [Warning] No further splits with positive gain, best gain: -inf\n",
            "[LightGBM] [Warning] No further splits with positive gain, best gain: -inf\n",
            "[LightGBM] [Warning] No further splits with positive gain, best gain: -inf\n",
            "[LightGBM] [Warning] No further splits with positive gain, best gain: -inf\n",
            "[LightGBM] [Warning] No further splits with positive gain, best gain: -inf\n",
            "[LightGBM] [Warning] No further splits with positive gain, best gain: -inf\n",
            "[LightGBM] [Warning] No further splits with positive gain, best gain: -inf\n",
            "[LightGBM] [Warning] No further splits with positive gain, best gain: -inf\n",
            "[LightGBM] [Warning] No further splits with positive gain, best gain: -inf\n",
            "[LightGBM] [Warning] No further splits with positive gain, best gain: -inf\n",
            "[LightGBM] [Warning] No further splits with positive gain, best gain: -inf\n",
            "[LightGBM] [Warning] No further splits with positive gain, best gain: -inf\n",
            "[LightGBM] [Warning] No further splits with positive gain, best gain: -inf\n",
            "[LightGBM] [Warning] No further splits with positive gain, best gain: -inf\n",
            "[LightGBM] [Warning] No further splits with positive gain, best gain: -inf\n",
            "[LightGBM] [Warning] No further splits with positive gain, best gain: -inf\n",
            "[LightGBM] [Warning] No further splits with positive gain, best gain: -inf\n",
            "[LightGBM] [Warning] No further splits with positive gain, best gain: -inf\n",
            "[LightGBM] [Warning] No further splits with positive gain, best gain: -inf\n",
            "[LightGBM] [Warning] No further splits with positive gain, best gain: -inf\n",
            "[LightGBM] [Warning] No further splits with positive gain, best gain: -inf\n",
            "[LightGBM] [Warning] No further splits with positive gain, best gain: -inf\n",
            "[LightGBM] [Warning] No further splits with positive gain, best gain: -inf\n",
            "[LightGBM] [Warning] No further splits with positive gain, best gain: -inf\n",
            "[LightGBM] [Warning] No further splits with positive gain, best gain: -inf\n",
            "[LightGBM] [Warning] No further splits with positive gain, best gain: -inf\n",
            "[LightGBM] [Warning] No further splits with positive gain, best gain: -inf\n",
            "[LightGBM] [Warning] No further splits with positive gain, best gain: -inf\n",
            "[LightGBM] [Warning] No further splits with positive gain, best gain: -inf\n",
            "[LightGBM] [Warning] No further splits with positive gain, best gain: -inf\n",
            "[LightGBM] [Warning] No further splits with positive gain, best gain: -inf\n",
            "[LightGBM] [Warning] No further splits with positive gain, best gain: -inf\n",
            "[LightGBM] [Warning] No further splits with positive gain, best gain: -inf\n",
            "[LightGBM] [Warning] No further splits with positive gain, best gain: -inf\n",
            "[LightGBM] [Warning] No further splits with positive gain, best gain: -inf\n",
            "[LightGBM] [Warning] No further splits with positive gain, best gain: -inf\n",
            "[LightGBM] [Warning] No further splits with positive gain, best gain: -inf\n",
            "[LightGBM] [Warning] No further splits with positive gain, best gain: -inf\n",
            "[LightGBM] [Warning] No further splits with positive gain, best gain: -inf\n",
            "[LightGBM] [Warning] No further splits with positive gain, best gain: -inf\n",
            "[LightGBM] [Warning] No further splits with positive gain, best gain: -inf\n",
            "[LightGBM] [Warning] No further splits with positive gain, best gain: -inf\n",
            "[LightGBM] [Warning] No further splits with positive gain, best gain: -inf\n",
            "[LightGBM] [Warning] No further splits with positive gain, best gain: -inf\n",
            "[LightGBM] [Warning] No further splits with positive gain, best gain: -inf\n",
            "[LightGBM] [Warning] No further splits with positive gain, best gain: -inf\n",
            "[LightGBM] [Warning] No further splits with positive gain, best gain: -inf\n",
            "[LightGBM] [Warning] No further splits with positive gain, best gain: -inf\n",
            "[LightGBM] [Warning] No further splits with positive gain, best gain: -inf\n",
            "[LightGBM] [Warning] No further splits with positive gain, best gain: -inf\n",
            "[LightGBM] [Warning] No further splits with positive gain, best gain: -inf\n",
            "[LightGBM] [Warning] No further splits with positive gain, best gain: -inf\n",
            "[LightGBM] [Warning] No further splits with positive gain, best gain: -inf\n",
            "[LightGBM] [Warning] No further splits with positive gain, best gain: -inf\n",
            "[LightGBM] [Warning] No further splits with positive gain, best gain: -inf\n",
            "[LightGBM] [Warning] No further splits with positive gain, best gain: -inf\n",
            "[LightGBM] [Warning] No further splits with positive gain, best gain: -inf\n",
            "[LightGBM] [Warning] No further splits with positive gain, best gain: -inf\n",
            "[LightGBM] [Warning] No further splits with positive gain, best gain: -inf\n",
            "[LightGBM] [Warning] No further splits with positive gain, best gain: -inf\n",
            "[LightGBM] [Warning] No further splits with positive gain, best gain: -inf\n",
            "[LightGBM] [Warning] No further splits with positive gain, best gain: -inf\n",
            "[LightGBM] [Warning] No further splits with positive gain, best gain: -inf\n",
            "[LightGBM] [Warning] No further splits with positive gain, best gain: -inf\n",
            "[LightGBM] [Warning] No further splits with positive gain, best gain: -inf\n",
            "[LightGBM] [Warning] No further splits with positive gain, best gain: -inf\n",
            "[LightGBM] [Warning] No further splits with positive gain, best gain: -inf\n",
            "[LightGBM] [Warning] No further splits with positive gain, best gain: -inf\n",
            "[LightGBM] [Warning] No further splits with positive gain, best gain: -inf\n",
            "[LightGBM] [Warning] No further splits with positive gain, best gain: -inf\n",
            "[LightGBM] [Warning] No further splits with positive gain, best gain: -inf\n",
            "[LightGBM] [Warning] No further splits with positive gain, best gain: -inf\n",
            "[LightGBM] [Warning] No further splits with positive gain, best gain: -inf\n",
            "[LightGBM] [Warning] No further splits with positive gain, best gain: -inf\n",
            "[LightGBM] [Warning] No further splits with positive gain, best gain: -inf\n",
            "[LightGBM] [Warning] No further splits with positive gain, best gain: -inf\n",
            "[LightGBM] [Warning] No further splits with positive gain, best gain: -inf\n",
            "[LightGBM] [Warning] No further splits with positive gain, best gain: -inf\n",
            "[LightGBM] [Warning] No further splits with positive gain, best gain: -inf\n",
            "[LightGBM] [Warning] No further splits with positive gain, best gain: -inf\n",
            "[LightGBM] [Warning] No further splits with positive gain, best gain: -inf\n",
            "[LightGBM] [Warning] No further splits with positive gain, best gain: -inf\n",
            "[LightGBM] [Warning] No further splits with positive gain, best gain: -inf\n",
            "[LightGBM] [Warning] No further splits with positive gain, best gain: -inf\n",
            "[LightGBM] [Warning] No further splits with positive gain, best gain: -inf\n",
            "[LightGBM] [Warning] No further splits with positive gain, best gain: -inf\n",
            "[LightGBM] [Warning] No further splits with positive gain, best gain: -inf\n",
            "[LightGBM] [Warning] No further splits with positive gain, best gain: -inf\n",
            "[LightGBM] [Warning] No further splits with positive gain, best gain: -inf\n",
            "[LightGBM] [Warning] No further splits with positive gain, best gain: -inf\n",
            "[LightGBM] [Warning] No further splits with positive gain, best gain: -inf\n",
            "[LightGBM] [Warning] No further splits with positive gain, best gain: -inf\n",
            "[LightGBM] [Warning] No further splits with positive gain, best gain: -inf\n",
            "[LightGBM] [Warning] No further splits with positive gain, best gain: -inf\n",
            "[LightGBM] [Warning] No further splits with positive gain, best gain: -inf\n",
            "[LightGBM] [Warning] No further splits with positive gain, best gain: -inf\n",
            "[LightGBM] [Warning] No further splits with positive gain, best gain: -inf\n",
            "[LightGBM] [Warning] No further splits with positive gain, best gain: -inf\n",
            "[LightGBM] [Warning] No further splits with positive gain, best gain: -inf\n",
            "[LightGBM] [Warning] No further splits with positive gain, best gain: -inf\n",
            "[LightGBM] [Warning] No further splits with positive gain, best gain: -inf\n",
            "[LightGBM] [Warning] No further splits with positive gain, best gain: -inf\n",
            "[LightGBM] [Warning] No further splits with positive gain, best gain: -inf\n",
            "[LightGBM] [Warning] No further splits with positive gain, best gain: -inf\n",
            "[LightGBM] [Warning] No further splits with positive gain, best gain: -inf\n",
            "[LightGBM] [Warning] No further splits with positive gain, best gain: -inf\n",
            "[LightGBM] [Warning] No further splits with positive gain, best gain: -inf\n",
            "[LightGBM] [Warning] No further splits with positive gain, best gain: -inf\n",
            "[LightGBM] [Warning] No further splits with positive gain, best gain: -inf\n",
            "[LightGBM] [Warning] No further splits with positive gain, best gain: -inf\n",
            "[LightGBM] [Warning] No further splits with positive gain, best gain: -inf\n",
            "[LightGBM] [Warning] No further splits with positive gain, best gain: -inf\n",
            "[LightGBM] [Warning] No further splits with positive gain, best gain: -inf\n",
            "[LightGBM] [Warning] No further splits with positive gain, best gain: -inf\n",
            "[LightGBM] [Warning] No further splits with positive gain, best gain: -inf\n",
            "[LightGBM] [Warning] No further splits with positive gain, best gain: -inf\n",
            "[LightGBM] [Warning] No further splits with positive gain, best gain: -inf\n",
            "[LightGBM] [Warning] No further splits with positive gain, best gain: -inf\n",
            "[LightGBM] [Warning] No further splits with positive gain, best gain: -inf\n",
            "[LightGBM] [Warning] No further splits with positive gain, best gain: -inf\n",
            "[LightGBM] [Warning] No further splits with positive gain, best gain: -inf\n",
            "[LightGBM] [Warning] No further splits with positive gain, best gain: -inf\n",
            "[LightGBM] [Warning] No further splits with positive gain, best gain: -inf\n",
            "[LightGBM] [Warning] No further splits with positive gain, best gain: -inf\n",
            "[LightGBM] [Warning] No further splits with positive gain, best gain: -inf\n",
            "[LightGBM] [Warning] No further splits with positive gain, best gain: -inf\n",
            "[LightGBM] [Warning] No further splits with positive gain, best gain: -inf\n",
            "[LightGBM] [Warning] No further splits with positive gain, best gain: -inf\n",
            "[LightGBM] [Warning] No further splits with positive gain, best gain: -inf\n",
            "[LightGBM] [Warning] No further splits with positive gain, best gain: -inf\n",
            "[LightGBM] [Warning] No further splits with positive gain, best gain: -inf\n",
            "[LightGBM] [Warning] No further splits with positive gain, best gain: -inf\n",
            "[LightGBM] [Warning] No further splits with positive gain, best gain: -inf\n",
            "[LightGBM] [Warning] No further splits with positive gain, best gain: -inf\n",
            "[LightGBM] [Warning] No further splits with positive gain, best gain: -inf\n",
            "[LightGBM] [Warning] No further splits with positive gain, best gain: -inf\n",
            "[LightGBM] [Warning] No further splits with positive gain, best gain: -inf\n",
            "[LightGBM] [Warning] No further splits with positive gain, best gain: -inf\n",
            "[LightGBM] [Warning] No further splits with positive gain, best gain: -inf\n",
            "[LightGBM] [Warning] No further splits with positive gain, best gain: -inf\n",
            "[LightGBM] [Warning] No further splits with positive gain, best gain: -inf\n",
            "[LightGBM] [Warning] No further splits with positive gain, best gain: -inf\n",
            "[LightGBM] [Warning] No further splits with positive gain, best gain: -inf\n",
            "[LightGBM] [Warning] No further splits with positive gain, best gain: -inf\n",
            "[LightGBM] [Warning] No further splits with positive gain, best gain: -inf\n",
            "[LightGBM] [Warning] No further splits with positive gain, best gain: -inf\n",
            "[LightGBM] [Warning] No further splits with positive gain, best gain: -inf\n",
            "[LightGBM] [Warning] No further splits with positive gain, best gain: -inf\n",
            "[LightGBM] [Warning] No further splits with positive gain, best gain: -inf\n",
            "[LightGBM] [Warning] No further splits with positive gain, best gain: -inf\n",
            "[LightGBM] [Warning] No further splits with positive gain, best gain: -inf\n",
            "[LightGBM] [Warning] No further splits with positive gain, best gain: -inf\n",
            "[LightGBM] [Warning] No further splits with positive gain, best gain: -inf\n",
            "[LightGBM] [Warning] No further splits with positive gain, best gain: -inf\n",
            "[LightGBM] [Warning] No further splits with positive gain, best gain: -inf\n",
            "[LightGBM] [Warning] No further splits with positive gain, best gain: -inf\n",
            "[LightGBM] [Warning] No further splits with positive gain, best gain: -inf\n",
            "[LightGBM] [Warning] No further splits with positive gain, best gain: -inf\n",
            "[LightGBM] [Warning] No further splits with positive gain, best gain: -inf\n",
            "[LightGBM] [Warning] No further splits with positive gain, best gain: -inf\n",
            "[LightGBM] [Warning] No further splits with positive gain, best gain: -inf\n",
            "[LightGBM] [Warning] No further splits with positive gain, best gain: -inf\n",
            "[LightGBM] [Warning] No further splits with positive gain, best gain: -inf\n",
            "[LightGBM] [Warning] No further splits with positive gain, best gain: -inf\n",
            "[LightGBM] [Warning] No further splits with positive gain, best gain: -inf\n",
            "[LightGBM] [Warning] No further splits with positive gain, best gain: -inf\n",
            "[LightGBM] [Warning] No further splits with positive gain, best gain: -inf\n",
            "[LightGBM] [Warning] No further splits with positive gain, best gain: -inf\n",
            "[LightGBM] [Warning] No further splits with positive gain, best gain: -inf\n",
            "[LightGBM] [Warning] No further splits with positive gain, best gain: -inf\n",
            "[LightGBM] [Warning] No further splits with positive gain, best gain: -inf\n",
            "[LightGBM] [Warning] No further splits with positive gain, best gain: -inf\n",
            "[LightGBM] [Warning] No further splits with positive gain, best gain: -inf\n",
            "[LightGBM] [Warning] No further splits with positive gain, best gain: -inf\n",
            "[LightGBM] [Warning] No further splits with positive gain, best gain: -inf\n",
            "[LightGBM] [Warning] No further splits with positive gain, best gain: -inf\n",
            "[LightGBM] [Warning] No further splits with positive gain, best gain: -inf\n",
            "[LightGBM] [Warning] No further splits with positive gain, best gain: -inf\n",
            "[LightGBM] [Warning] No further splits with positive gain, best gain: -inf\n",
            "[LightGBM] [Warning] No further splits with positive gain, best gain: -inf\n",
            "[LightGBM] [Warning] No further splits with positive gain, best gain: -inf\n",
            "[LightGBM] [Warning] No further splits with positive gain, best gain: -inf\n",
            "[LightGBM] [Warning] No further splits with positive gain, best gain: -inf\n",
            "[LightGBM] [Warning] No further splits with positive gain, best gain: -inf\n",
            "[LightGBM] [Warning] No further splits with positive gain, best gain: -inf\n",
            "[LightGBM] [Warning] No further splits with positive gain, best gain: -inf\n",
            "[LightGBM] [Warning] No further splits with positive gain, best gain: -inf\n",
            "[LightGBM] [Warning] No further splits with positive gain, best gain: -inf\n",
            "[LightGBM] [Warning] No further splits with positive gain, best gain: -inf\n",
            "[LightGBM] [Warning] No further splits with positive gain, best gain: -inf\n",
            "[LightGBM] [Warning] No further splits with positive gain, best gain: -inf\n",
            "[LightGBM] [Warning] No further splits with positive gain, best gain: -inf\n",
            "[LightGBM] [Warning] No further splits with positive gain, best gain: -inf\n",
            "[LightGBM] [Warning] No further splits with positive gain, best gain: -inf\n",
            "[LightGBM] [Warning] No further splits with positive gain, best gain: -inf\n",
            "[LightGBM] [Warning] No further splits with positive gain, best gain: -inf\n",
            "[LightGBM] [Warning] No further splits with positive gain, best gain: -inf\n",
            "[LightGBM] [Warning] No further splits with positive gain, best gain: -inf\n",
            "[LightGBM] [Warning] No further splits with positive gain, best gain: -inf\n",
            "[LightGBM] [Warning] No further splits with positive gain, best gain: -inf\n",
            "[LightGBM] [Warning] No further splits with positive gain, best gain: -inf\n",
            "[LightGBM] [Warning] No further splits with positive gain, best gain: -inf\n",
            "[LightGBM] [Warning] No further splits with positive gain, best gain: -inf\n",
            "[LightGBM] [Warning] No further splits with positive gain, best gain: -inf\n",
            "[LightGBM] [Warning] No further splits with positive gain, best gain: -inf\n",
            "[LightGBM] [Warning] No further splits with positive gain, best gain: -inf\n",
            "[LightGBM] [Warning] No further splits with positive gain, best gain: -inf\n",
            "[LightGBM] [Warning] No further splits with positive gain, best gain: -inf\n",
            "[LightGBM] [Warning] No further splits with positive gain, best gain: -inf\n",
            "[LightGBM] [Warning] No further splits with positive gain, best gain: -inf\n",
            "[LightGBM] [Warning] No further splits with positive gain, best gain: -inf\n",
            "[LightGBM] [Warning] No further splits with positive gain, best gain: -inf\n",
            "[LightGBM] [Warning] No further splits with positive gain, best gain: -inf\n",
            "[LightGBM] [Warning] No further splits with positive gain, best gain: -inf\n",
            "[LightGBM] [Warning] No further splits with positive gain, best gain: -inf\n",
            "[LightGBM] [Warning] No further splits with positive gain, best gain: -inf\n",
            "[LightGBM] [Warning] No further splits with positive gain, best gain: -inf\n",
            "[LightGBM] [Warning] No further splits with positive gain, best gain: -inf\n",
            "[LightGBM] [Warning] No further splits with positive gain, best gain: -inf\n",
            "[LightGBM] [Warning] No further splits with positive gain, best gain: -inf\n",
            "[LightGBM] [Warning] No further splits with positive gain, best gain: -inf\n",
            "[LightGBM] [Warning] No further splits with positive gain, best gain: -inf\n",
            "[LightGBM] [Warning] No further splits with positive gain, best gain: -inf\n",
            "[LightGBM] [Warning] No further splits with positive gain, best gain: -inf\n",
            "[LightGBM] [Warning] No further splits with positive gain, best gain: -inf\n",
            "[LightGBM] [Warning] No further splits with positive gain, best gain: -inf\n",
            "[LightGBM] [Warning] No further splits with positive gain, best gain: -inf\n",
            "[LightGBM] [Warning] No further splits with positive gain, best gain: -inf\n",
            "[LightGBM] [Warning] No further splits with positive gain, best gain: -inf\n",
            "[LightGBM] [Warning] No further splits with positive gain, best gain: -inf\n",
            "[LightGBM] [Warning] No further splits with positive gain, best gain: -inf\n",
            "[LightGBM] [Warning] No further splits with positive gain, best gain: -inf\n",
            "[LightGBM] [Warning] No further splits with positive gain, best gain: -inf\n",
            "[LightGBM] [Warning] No further splits with positive gain, best gain: -inf\n",
            "[LightGBM] [Warning] No further splits with positive gain, best gain: -inf\n",
            "[LightGBM] [Warning] No further splits with positive gain, best gain: -inf\n",
            "[LightGBM] [Warning] No further splits with positive gain, best gain: -inf\n",
            "[LightGBM] [Warning] No further splits with positive gain, best gain: -inf\n",
            "[LightGBM] [Warning] No further splits with positive gain, best gain: -inf\n",
            "[LightGBM] [Warning] No further splits with positive gain, best gain: -inf\n",
            "[LightGBM] [Warning] No further splits with positive gain, best gain: -inf\n",
            "[LightGBM] [Warning] No further splits with positive gain, best gain: -inf\n",
            "[LightGBM] [Warning] No further splits with positive gain, best gain: -inf\n",
            "[LightGBM] [Warning] No further splits with positive gain, best gain: -inf\n",
            "[LightGBM] [Warning] No further splits with positive gain, best gain: -inf\n",
            "[LightGBM] [Warning] No further splits with positive gain, best gain: -inf\n",
            "[LightGBM] [Warning] No further splits with positive gain, best gain: -inf\n",
            "[LightGBM] [Warning] No further splits with positive gain, best gain: -inf\n",
            "[LightGBM] [Warning] No further splits with positive gain, best gain: -inf\n",
            "[LightGBM] [Warning] No further splits with positive gain, best gain: -inf\n",
            "[LightGBM] [Warning] No further splits with positive gain, best gain: -inf\n",
            "[LightGBM] [Warning] No further splits with positive gain, best gain: -inf\n",
            "[LightGBM] [Warning] No further splits with positive gain, best gain: -inf\n",
            "[LightGBM] [Warning] No further splits with positive gain, best gain: -inf\n",
            "[LightGBM] [Warning] No further splits with positive gain, best gain: -inf\n",
            "[LightGBM] [Warning] No further splits with positive gain, best gain: -inf\n",
            "[LightGBM] [Warning] No further splits with positive gain, best gain: -inf\n",
            "[LightGBM] [Warning] No further splits with positive gain, best gain: -inf\n",
            "[LightGBM] [Warning] No further splits with positive gain, best gain: -inf\n",
            "[LightGBM] [Warning] No further splits with positive gain, best gain: -inf\n",
            "[LightGBM] [Warning] No further splits with positive gain, best gain: -inf\n",
            "[LightGBM] [Warning] No further splits with positive gain, best gain: -inf\n",
            "[LightGBM] [Warning] No further splits with positive gain, best gain: -inf\n",
            "[LightGBM] [Warning] No further splits with positive gain, best gain: -inf\n",
            "[LightGBM] [Warning] No further splits with positive gain, best gain: -inf\n",
            "[LightGBM] [Warning] No further splits with positive gain, best gain: -inf\n",
            "[LightGBM] [Warning] No further splits with positive gain, best gain: -inf\n",
            "[LightGBM] [Warning] No further splits with positive gain, best gain: -inf\n",
            "[LightGBM] [Warning] No further splits with positive gain, best gain: -inf\n",
            "[LightGBM] [Warning] No further splits with positive gain, best gain: -inf\n",
            "[LightGBM] [Warning] No further splits with positive gain, best gain: -inf\n",
            "[LightGBM] [Warning] No further splits with positive gain, best gain: -inf\n",
            "[LightGBM] [Warning] No further splits with positive gain, best gain: -inf\n",
            "[LightGBM] [Warning] No further splits with positive gain, best gain: -inf\n",
            "[LightGBM] [Warning] No further splits with positive gain, best gain: -inf\n",
            "[LightGBM] [Warning] No further splits with positive gain, best gain: -inf\n",
            "[LightGBM] [Warning] No further splits with positive gain, best gain: -inf\n",
            "[LightGBM] [Warning] No further splits with positive gain, best gain: -inf\n",
            "[LightGBM] [Warning] No further splits with positive gain, best gain: -inf\n",
            "[LightGBM] [Warning] No further splits with positive gain, best gain: -inf\n",
            "[LightGBM] [Warning] No further splits with positive gain, best gain: -inf\n",
            "[LightGBM] [Warning] No further splits with positive gain, best gain: -inf\n",
            "[LightGBM] [Warning] No further splits with positive gain, best gain: -inf\n",
            "[LightGBM] [Warning] No further splits with positive gain, best gain: -inf\n",
            "[LightGBM] [Warning] No further splits with positive gain, best gain: -inf\n",
            "[LightGBM] [Warning] No further splits with positive gain, best gain: -inf\n",
            "[LightGBM] [Warning] No further splits with positive gain, best gain: -inf\n",
            "[LightGBM] [Warning] No further splits with positive gain, best gain: -inf\n",
            "[LightGBM] [Warning] No further splits with positive gain, best gain: -inf\n",
            "[LightGBM] [Warning] No further splits with positive gain, best gain: -inf\n",
            "[LightGBM] [Warning] No further splits with positive gain, best gain: -inf\n",
            "[LightGBM] [Warning] No further splits with positive gain, best gain: -inf\n",
            "[LightGBM] [Warning] No further splits with positive gain, best gain: -inf\n",
            "[LightGBM] [Warning] No further splits with positive gain, best gain: -inf\n",
            "[LightGBM] [Warning] No further splits with positive gain, best gain: -inf\n",
            "[LightGBM] [Warning] No further splits with positive gain, best gain: -inf\n",
            "[LightGBM] [Warning] No further splits with positive gain, best gain: -inf\n",
            "[LightGBM] [Warning] No further splits with positive gain, best gain: -inf\n",
            "[LightGBM] [Warning] No further splits with positive gain, best gain: -inf\n",
            "[LightGBM] [Warning] No further splits with positive gain, best gain: -inf\n",
            "[LightGBM] [Warning] No further splits with positive gain, best gain: -inf\n",
            "[LightGBM] [Warning] No further splits with positive gain, best gain: -inf\n",
            "[LightGBM] [Warning] No further splits with positive gain, best gain: -inf\n",
            "[LightGBM] [Warning] No further splits with positive gain, best gain: -inf\n",
            "[LightGBM] [Warning] No further splits with positive gain, best gain: -inf\n",
            "[LightGBM] [Warning] No further splits with positive gain, best gain: -inf\n",
            "[LightGBM] [Warning] No further splits with positive gain, best gain: -inf\n",
            "[LightGBM] [Warning] No further splits with positive gain, best gain: -inf\n",
            "[LightGBM] [Warning] No further splits with positive gain, best gain: -inf\n",
            "[LightGBM] [Warning] No further splits with positive gain, best gain: -inf\n",
            "[LightGBM] [Warning] No further splits with positive gain, best gain: -inf\n",
            "[LightGBM] [Warning] No further splits with positive gain, best gain: -inf\n",
            "[LightGBM] [Warning] No further splits with positive gain, best gain: -inf\n",
            "[LightGBM] [Warning] No further splits with positive gain, best gain: -inf\n",
            "[LightGBM] [Warning] No further splits with positive gain, best gain: -inf\n",
            "[LightGBM] [Warning] No further splits with positive gain, best gain: -inf\n",
            "[LightGBM] [Warning] No further splits with positive gain, best gain: -inf\n",
            "[LightGBM] [Warning] No further splits with positive gain, best gain: -inf\n",
            "[LightGBM] [Warning] No further splits with positive gain, best gain: -inf\n",
            "[LightGBM] [Warning] No further splits with positive gain, best gain: -inf\n",
            "[LightGBM] [Warning] No further splits with positive gain, best gain: -inf\n",
            "[LightGBM] [Warning] No further splits with positive gain, best gain: -inf\n",
            "[LightGBM] [Warning] No further splits with positive gain, best gain: -inf\n",
            "[LightGBM] [Warning] No further splits with positive gain, best gain: -inf\n",
            "[LightGBM] [Warning] No further splits with positive gain, best gain: -inf\n",
            "[LightGBM] [Warning] No further splits with positive gain, best gain: -inf\n",
            "[LightGBM] [Warning] No further splits with positive gain, best gain: -inf\n",
            "[LightGBM] [Warning] No further splits with positive gain, best gain: -inf\n",
            "[LightGBM] [Warning] No further splits with positive gain, best gain: -inf\n",
            "[LightGBM] [Warning] No further splits with positive gain, best gain: -inf\n",
            "[LightGBM] [Warning] No further splits with positive gain, best gain: -inf\n",
            "[LightGBM] [Warning] No further splits with positive gain, best gain: -inf\n",
            "[LightGBM] [Warning] No further splits with positive gain, best gain: -inf\n",
            "[LightGBM] [Warning] No further splits with positive gain, best gain: -inf\n",
            "[LightGBM] [Warning] No further splits with positive gain, best gain: -inf\n",
            "[LightGBM] [Warning] No further splits with positive gain, best gain: -inf\n",
            "[LightGBM] [Warning] No further splits with positive gain, best gain: -inf\n",
            "[LightGBM] [Warning] No further splits with positive gain, best gain: -inf\n",
            "[LightGBM] [Warning] No further splits with positive gain, best gain: -inf\n",
            "[LightGBM] [Warning] No further splits with positive gain, best gain: -inf\n",
            "[LightGBM] [Warning] No further splits with positive gain, best gain: -inf\n",
            "[LightGBM] [Warning] No further splits with positive gain, best gain: -inf\n",
            "[LightGBM] [Warning] No further splits with positive gain, best gain: -inf\n",
            "[LightGBM] [Warning] No further splits with positive gain, best gain: -inf\n",
            "[LightGBM] [Warning] No further splits with positive gain, best gain: -inf\n",
            "[LightGBM] [Warning] No further splits with positive gain, best gain: -inf\n",
            "[LightGBM] [Warning] No further splits with positive gain, best gain: -inf\n",
            "[LightGBM] [Warning] No further splits with positive gain, best gain: -inf\n",
            "[LightGBM] [Warning] No further splits with positive gain, best gain: -inf\n",
            "[LightGBM] [Warning] No further splits with positive gain, best gain: -inf\n",
            "[LightGBM] [Warning] No further splits with positive gain, best gain: -inf\n",
            "[LightGBM] [Warning] No further splits with positive gain, best gain: -inf\n",
            "[LightGBM] [Warning] No further splits with positive gain, best gain: -inf\n",
            "[LightGBM] [Warning] No further splits with positive gain, best gain: -inf\n",
            "[LightGBM] [Warning] No further splits with positive gain, best gain: -inf\n",
            "[LightGBM] [Warning] No further splits with positive gain, best gain: -inf\n",
            "[LightGBM] [Warning] No further splits with positive gain, best gain: -inf\n",
            "[LightGBM] [Warning] No further splits with positive gain, best gain: -inf\n",
            "[LightGBM] [Warning] No further splits with positive gain, best gain: -inf\n",
            "[LightGBM] [Warning] No further splits with positive gain, best gain: -inf\n",
            "[LightGBM] [Warning] No further splits with positive gain, best gain: -inf\n",
            "[LightGBM] [Warning] No further splits with positive gain, best gain: -inf\n",
            "[LightGBM] [Warning] No further splits with positive gain, best gain: -inf\n",
            "[LightGBM] [Warning] No further splits with positive gain, best gain: -inf\n",
            "[LightGBM] [Warning] No further splits with positive gain, best gain: -inf\n",
            "[LightGBM] [Warning] No further splits with positive gain, best gain: -inf\n",
            "[LightGBM] [Warning] No further splits with positive gain, best gain: -inf\n",
            "[LightGBM] [Warning] No further splits with positive gain, best gain: -inf\n",
            "[LightGBM] [Warning] No further splits with positive gain, best gain: -inf\n",
            "[LightGBM] [Warning] No further splits with positive gain, best gain: -inf\n",
            "[LightGBM] [Warning] No further splits with positive gain, best gain: -inf\n",
            "[LightGBM] [Warning] No further splits with positive gain, best gain: -inf\n",
            "[LightGBM] [Warning] No further splits with positive gain, best gain: -inf\n",
            "[LightGBM] [Warning] No further splits with positive gain, best gain: -inf\n",
            "[LightGBM] [Warning] No further splits with positive gain, best gain: -inf\n",
            "[LightGBM] [Warning] No further splits with positive gain, best gain: -inf\n",
            "[LightGBM] [Warning] No further splits with positive gain, best gain: -inf\n",
            "[LightGBM] [Warning] No further splits with positive gain, best gain: -inf\n",
            "[LightGBM] [Warning] No further splits with positive gain, best gain: -inf\n",
            "[LightGBM] [Warning] No further splits with positive gain, best gain: -inf\n",
            "[LightGBM] [Warning] No further splits with positive gain, best gain: -inf\n",
            "[LightGBM] [Warning] No further splits with positive gain, best gain: -inf\n",
            "[LightGBM] [Warning] No further splits with positive gain, best gain: -inf\n",
            "[LightGBM] [Warning] No further splits with positive gain, best gain: -inf\n",
            "[LightGBM] [Warning] No further splits with positive gain, best gain: -inf\n",
            "[LightGBM] [Warning] No further splits with positive gain, best gain: -inf\n",
            "[LightGBM] [Warning] No further splits with positive gain, best gain: -inf\n",
            "[LightGBM] [Warning] No further splits with positive gain, best gain: -inf\n",
            "[LightGBM] [Warning] No further splits with positive gain, best gain: -inf\n",
            "[LightGBM] [Warning] No further splits with positive gain, best gain: -inf\n",
            "[LightGBM] [Warning] No further splits with positive gain, best gain: -inf\n",
            "[LightGBM] [Warning] No further splits with positive gain, best gain: -inf\n",
            "[LightGBM] [Warning] No further splits with positive gain, best gain: -inf\n",
            "[LightGBM] [Warning] No further splits with positive gain, best gain: -inf\n",
            "[LightGBM] [Warning] No further splits with positive gain, best gain: -inf\n",
            "[LightGBM] [Warning] No further splits with positive gain, best gain: -inf\n",
            "[LightGBM] [Warning] No further splits with positive gain, best gain: -inf\n"
          ]
        },
        {
          "data": {
            "text/plain": [
              "LGBMClassifier()"
            ]
          },
          "execution_count": 39,
          "metadata": {},
          "output_type": "execute_result"
        }
      ],
      "source": [
        "model_lgbm  = LGBMClassifier()\n",
        "model_lgbm.fit(X_train, y_train)"
      ]
    },
    {
      "cell_type": "code",
      "execution_count": 40,
      "id": "9Rz9fZAar3BE",
      "metadata": {
        "colab": {
          "base_uri": "https://localhost:8080/"
        },
        "id": "9Rz9fZAar3BE",
        "outputId": "5068f108-c232-434f-edf0-30d0d83926c0"
      },
      "outputs": [
        {
          "name": "stdout",
          "output_type": "stream",
          "text": [
            "Accuracy: 0.9293413173652695\n"
          ]
        }
      ],
      "source": [
        "lgbm_predict = model_lgbm.predict(X_test)\n",
        "accuracy_lgbm = accuracy_score(y_test, lgbm_predict)\n",
        "print(f\"Accuracy: {accuracy_lgbm}\")"
      ]
    },
    {
      "cell_type": "code",
      "execution_count": 41,
      "id": "uf1INJ1r7j8b",
      "metadata": {
        "colab": {
          "base_uri": "https://localhost:8080/",
          "height": 730
        },
        "id": "uf1INJ1r7j8b",
        "outputId": "ae36810c-d9b3-416e-a2b3-fd988c33749d"
      },
      "outputs": [
        {
          "name": "stdout",
          "output_type": "stream",
          "text": [
            "Classification Report:\n",
            "               precision    recall  f1-score   support\n",
            "\n",
            "           0       0.93      0.98      0.95       214\n",
            "           1       0.86      0.88      0.87       229\n",
            "           2       0.87      0.88      0.88       229\n",
            "           3       0.92      0.85      0.88       238\n",
            "           4       0.93      0.95      0.94       271\n",
            "           5       0.99      0.97      0.98       240\n",
            "           6       1.00      1.00      1.00       249\n",
            "\n",
            "    accuracy                           0.93      1670\n",
            "   macro avg       0.93      0.93      0.93      1670\n",
            "weighted avg       0.93      0.93      0.93      1670\n",
            "\n"
          ]
        },
        {
          "data": {
            "image/png": "[encoded data removed]",
            "text/plain": [
              "<Figure size 432x288 with 2 Axes>"
            ]
          },
          "metadata": {
            "needs_background": "light"
          },
          "output_type": "display_data"
        },
        {
          "name": "stdout",
          "output_type": "stream",
          "text": [
            "Accuracy: 0.929\n"
          ]
        }
      ],
      "source": [
        "classification_acc(model_lgbm, 'Light Gradient Boosting Clasifier')"
      ]
    },
    {
      "cell_type": "markdown",
      "id": "f52LyKyKtNNm",
      "metadata": {
        "id": "f52LyKyKtNNm"
      },
      "source": [
        "### XGB Classifier"
      ]
    },
    {
      "cell_type": "code",
      "execution_count": 42,
      "id": "PufySWmYtSOU",
      "metadata": {
        "colab": {
          "base_uri": "https://localhost:8080/",
          "height": 248
        },
        "id": "PufySWmYtSOU",
        "outputId": "9abf0e0f-7c4c-4b45-cef5-4a106bab36ca"
      },
      "outputs": [
        {
          "data": {
            "text/plain": [
              "XGBClassifier(base_score=None, booster=None, callbacks=None,\n",
              "              colsample_bylevel=None, colsample_bynode=None,\n",
              "              colsample_bytree=None, device=None, early_stopping_rounds=None,\n",
              "              enable_categorical=False, eval_metric=None, feature_types=None,\n",
              "              gamma=None, grow_policy=None, importance_type=None,\n",
              "              interaction_constraints=None, learning_rate=None, max_bin=None,\n",
              "              max_cat_threshold=None, max_cat_to_onehot=None,\n",
              "              max_delta_step=None, max_depth=None, max_leaves=None,\n",
              "              min_child_weight=None, missing=nan, monotone_constraints=None,\n",
              "              multi_strategy=None, n_estimators=None, n_jobs=None, num_class=7,\n",
              "              num_parallel_tree=None, ...)"
            ]
          },
          "execution_count": 42,
          "metadata": {},
          "output_type": "execute_result"
        }
      ],
      "source": [
        "model_xgb = XGBClassifier(objective=\"multi:softmax\",num_class = 7)\n",
        "model_xgb.fit(X_train, y_train)"
      ]
    },
    {
      "cell_type": "code",
      "execution_count": 43,
      "id": "a3Ci1eCStalw",
      "metadata": {
        "colab": {
          "base_uri": "https://localhost:8080/"
        },
        "id": "a3Ci1eCStalw",
        "outputId": "a3e57df2-7c68-434c-e87c-6df799959185"
      },
      "outputs": [
        {
          "name": "stdout",
          "output_type": "stream",
          "text": [
            "Accuracy: 0.8994011976047904\n"
          ]
        }
      ],
      "source": [
        "xgb_predict = model_xgb.predict(X_test)\n",
        "accuracy_xgb = accuracy_score(y_test, xgb_predict)\n",
        "print(f\"Accuracy: {accuracy_xgb}\")"
      ]
    },
    {
      "cell_type": "code",
      "execution_count": 44,
      "id": "ALLyonum7tfU",
      "metadata": {
        "colab": {
          "base_uri": "https://localhost:8080/",
          "height": 730
        },
        "id": "ALLyonum7tfU",
        "outputId": "920d0277-3efd-477f-ff4b-c6a0f2306e16"
      },
      "outputs": [
        {
          "name": "stdout",
          "output_type": "stream",
          "text": [
            "Classification Report:\n",
            "               precision    recall  f1-score   support\n",
            "\n",
            "           0       0.94      0.97      0.95       214\n",
            "           1       0.79      0.85      0.82       229\n",
            "           2       0.82      0.79      0.80       229\n",
            "           3       0.91      0.76      0.83       238\n",
            "           4       0.89      0.94      0.91       271\n",
            "           5       0.97      0.98      0.97       240\n",
            "           6       1.00      1.00      1.00       249\n",
            "\n",
            "    accuracy                           0.90      1670\n",
            "   macro avg       0.90      0.90      0.90      1670\n",
            "weighted avg       0.90      0.90      0.90      1670\n",
            "\n"
          ]
        },
        {
          "data": {
            "image/png": "[encoded data removed]",
            "text/plain": [
              "<Figure size 432x288 with 2 Axes>"
            ]
          },
          "metadata": {
            "needs_background": "light"
          },
          "output_type": "display_data"
        },
        {
          "name": "stdout",
          "output_type": "stream",
          "text": [
            "Accuracy: 0.899\n"
          ]
        }
      ],
      "source": [
        "classification_acc(model_xgb, 'Extra Gradient Boosting Clasifier')"
      ]
    },
    {
      "cell_type": "markdown",
      "id": "ZBphySuwtxl_",
      "metadata": {
        "id": "ZBphySuwtxl_"
      },
      "source": [
        "### CatBoost CLassifier"
      ]
    },
    {
      "cell_type": "code",
      "execution_count": 45,
      "id": "TYSa7ENgubFD",
      "metadata": {
        "colab": {
          "base_uri": "https://localhost:8080/"
        },
        "id": "TYSa7ENgubFD",
        "outputId": "7c7aa416-f683-444d-de23-5da9b5a29457"
      },
      "outputs": [
        {
          "name": "stdout",
          "output_type": "stream",
          "text": [
            "Collecting catboost\n",
            "  Downloading catboost-1.2.5-cp38-cp38-win_amd64.whl.metadata (1.2 kB)\n",
            "Collecting graphviz (from catboost)\n",
            "  Downloading graphviz-0.20.3-py3-none-any.whl.metadata (12 kB)\n",
            "Requirement already satisfied: matplotlib in c:\\users\\malik\\anaconda3\\lib\\site-packages (from catboost) (3.7.1)\n",
            "Requirement already satisfied: numpy>=1.16.0 in c:\\users\\malik\\anaconda3\\lib\\site-packages (from catboost) (1.22.4)\n",
            "Requirement already satisfied: pandas>=0.24 in c:\\users\\malik\\anaconda3\\lib\\site-packages (from catboost) (2.0.3)\n",
            "Requirement already satisfied: scipy in c:\\users\\malik\\anaconda3\\lib\\site-packages (from catboost) (1.6.2)\n",
            "Collecting plotly (from catboost)\n",
            "  Downloading plotly-5.22.0-py3-none-any.whl.metadata (7.1 kB)\n",
            "Requirement already satisfied: six in c:\\users\\malik\\anaconda3\\lib\\site-packages (from catboost) (1.15.0)\n",
            "Requirement already satisfied: python-dateutil>=2.8.2 in c:\\users\\malik\\anaconda3\\lib\\site-packages (from pandas>=0.24->catboost) (2.9.0.post0)\n",
            "Requirement already satisfied: pytz>=2020.1 in c:\\users\\malik\\anaconda3\\lib\\site-packages (from pandas>=0.24->catboost) (2021.1)\n",
            "Requirement already satisfied: tzdata>=2022.1 in c:\\users\\malik\\anaconda3\\lib\\site-packages (from pandas>=0.24->catboost) (2024.1)\n",
            "Requirement already satisfied: contourpy>=1.0.1 in c:\\users\\malik\\anaconda3\\lib\\site-packages (from matplotlib->catboost) (1.0.7)\n",
            "Requirement already satisfied: cycler>=0.10 in c:\\users\\malik\\anaconda3\\lib\\site-packages (from matplotlib->catboost) (0.10.0)\n",
            "Requirement already satisfied: fonttools>=4.22.0 in c:\\users\\malik\\anaconda3\\lib\\site-packages (from matplotlib->catboost) (4.39.4)\n",
            "Requirement already satisfied: kiwisolver>=1.0.1 in c:\\users\\malik\\anaconda3\\lib\\site-packages (from matplotlib->catboost) (1.3.1)\n",
            "Requirement already satisfied: packaging>=20.0 in c:\\users\\malik\\anaconda3\\lib\\site-packages (from matplotlib->catboost) (20.9)\n",
            "Requirement already satisfied: pillow>=6.2.0 in c:\\users\\malik\\anaconda3\\lib\\site-packages (from matplotlib->catboost) (8.2.0)\n",
            "Requirement already satisfied: pyparsing>=2.3.1 in c:\\users\\malik\\anaconda3\\lib\\site-packages (from matplotlib->catboost) (2.4.7)\n",
            "Requirement already satisfied: importlib-resources>=3.2.0 in c:\\users\\malik\\anaconda3\\lib\\site-packages (from matplotlib->catboost) (5.12.0)\n",
            "Requirement already satisfied: tenacity>=6.2.0 in c:\\users\\malik\\anaconda3\\lib\\site-packages (from plotly->catboost) (8.3.0)\n",
            "Requirement already satisfied: zipp>=3.1.0 in c:\\users\\malik\\anaconda3\\lib\\site-packages (from importlib-resources>=3.2.0->matplotlib->catboost) (3.4.1)\n",
            "Downloading catboost-1.2.5-cp38-cp38-win_amd64.whl (101.2 MB)\n",
            "   ---------------------------------------- 101.2/101.2 MB 1.7 MB/s eta 0:00:00\n",
            "Downloading graphviz-0.20.3-py3-none-any.whl (47 kB)\n",
            "   ---------------------------------------- 47.1/47.1 kB 1.2 MB/s eta 0:00:00\n",
            "Downloading plotly-5.22.0-py3-none-any.whl (16.4 MB)\n",
            "   ---------------------------------------- 16.4/16.4 MB 1.6 MB/s eta 0:00:00\n",
            "Installing collected packages: graphviz, plotly, catboost\n",
            "Successfully installed catboost-1.2.5 graphviz-0.20.3 plotly-5.22.0\n"
          ]
        },
        {
          "name": "stderr",
          "output_type": "stream",
          "text": [
            "DEPRECATION: pyodbc 4.0.0-unsupported has a non-standard version number. pip 24.1 will enforce this behaviour change. A possible replacement is to upgrade to a newer version of pyodbc or contact the author to suggest that they release a version with a conforming version number. Discussion can be found at https://github.com/pypa/pip/issues/12063\n"
          ]
        }
      ],
      "source": [
        "!pip3 install catboost"
      ]
    },
    {
      "cell_type": "code",
      "execution_count": 46,
      "id": "1D84Jb-ZuB-2",
      "metadata": {
        "id": "1D84Jb-ZuB-2"
      },
      "outputs": [],
      "source": [
        "from catboost import CatBoostClassifier"
      ]
    },
    {
      "cell_type": "code",
      "execution_count": 47,
      "id": "UdESCh1ht58o",
      "metadata": {
        "colab": {
          "base_uri": "https://localhost:8080/"
        },
        "id": "UdESCh1ht58o",
        "outputId": "80fc965c-aa8b-4ae9-bb6a-7d95e62f8057"
      },
      "outputs": [
        {
          "data": {
            "text/plain": [
              "<catboost.core.CatBoostClassifier at 0x18f2bc837f0>"
            ]
          },
          "execution_count": 47,
          "metadata": {},
          "output_type": "execute_result"
        }
      ],
      "source": [
        "model_CatBoost = CatBoostClassifier(random_state=42, verbose=False)\n",
        "model_CatBoost.fit(X_train, y_train)"
      ]
    },
    {
      "cell_type": "code",
      "execution_count": 48,
      "id": "OZbzvrf_u77I",
      "metadata": {
        "colab": {
          "base_uri": "https://localhost:8080/"
        },
        "id": "OZbzvrf_u77I",
        "outputId": "3486c02b-4657-41fe-e529-2f0f6ec1c307"
      },
      "outputs": [
        {
          "name": "stdout",
          "output_type": "stream",
          "text": [
            "Accuracy: 0.937125748502994\n"
          ]
        }
      ],
      "source": [
        "CatBoost_predict = model_CatBoost.predict(X_test)\n",
        "accuracy_CatBoost = accuracy_score(y_test, CatBoost_predict)\n",
        "print(f\"Accuracy: {accuracy_CatBoost}\")"
      ]
    },
    {
      "cell_type": "code",
      "execution_count": 49,
      "id": "Vmkm5CCx7yus",
      "metadata": {
        "colab": {
          "base_uri": "https://localhost:8080/",
          "height": 730
        },
        "id": "Vmkm5CCx7yus",
        "outputId": "63dee2a8-c291-40be-e015-969d03d9d60f"
      },
      "outputs": [
        {
          "name": "stdout",
          "output_type": "stream",
          "text": [
            "Classification Report:\n",
            "               precision    recall  f1-score   support\n",
            "\n",
            "           0       0.94      0.96      0.95       214\n",
            "           1       0.85      0.86      0.86       229\n",
            "           2       0.89      0.85      0.87       229\n",
            "           3       0.94      0.94      0.94       238\n",
            "           4       0.97      0.96      0.96       271\n",
            "           5       0.96      0.98      0.97       240\n",
            "           6       1.00      1.00      1.00       249\n",
            "\n",
            "    accuracy                           0.94      1670\n",
            "   macro avg       0.94      0.94      0.94      1670\n",
            "weighted avg       0.94      0.94      0.94      1670\n",
            "\n"
          ]
        },
        {
          "data": {
            "image/png": "[encoded data removed]",
            "text/plain": [
              "<Figure size 432x288 with 2 Axes>"
            ]
          },
          "metadata": {
            "needs_background": "light"
          },
          "output_type": "display_data"
        },
        {
          "name": "stdout",
          "output_type": "stream",
          "text": [
            "Accuracy: 0.937\n"
          ]
        }
      ],
      "source": [
        "classification_acc(model_CatBoost, 'CatBoosting Clasifier')"
      ]
    },
    {
      "cell_type": "markdown",
      "id": "XwCqRE1XxKJ6",
      "metadata": {
        "id": "XwCqRE1XxKJ6"
      },
      "source": [
        "### ExtraTrees Classifier"
      ]
    },
    {
      "cell_type": "code",
      "execution_count": 50,
      "id": "KCejrOCrxXjI",
      "metadata": {
        "id": "KCejrOCrxXjI"
      },
      "outputs": [],
      "source": [
        "from sklearn.ensemble import ExtraTreesClassifier"
      ]
    },
    {
      "cell_type": "code",
      "execution_count": 51,
      "id": "gBZZxL5sxQ32",
      "metadata": {
        "colab": {
          "base_uri": "https://localhost:8080/",
          "height": 75
        },
        "id": "gBZZxL5sxQ32",
        "outputId": "c319d8d4-3b59-4409-9549-3477c44af92d"
      },
      "outputs": [
        {
          "data": {
            "text/plain": [
              "ExtraTreesClassifier(random_state=42)"
            ]
          },
          "execution_count": 51,
          "metadata": {},
          "output_type": "execute_result"
        }
      ],
      "source": [
        "model_ExtraTrees = ExtraTreesClassifier(random_state=42)\n",
        "model_ExtraTrees.fit(X_train, y_train)"
      ]
    },
    {
      "cell_type": "code",
      "execution_count": 52,
      "id": "XJ-U3MMOxoWA",
      "metadata": {
        "colab": {
          "base_uri": "https://localhost:8080/"
        },
        "id": "XJ-U3MMOxoWA",
        "outputId": "fac4a894-1fe2-4f7b-9e02-270fc8b7f3f4"
      },
      "outputs": [
        {
          "name": "stdout",
          "output_type": "stream",
          "text": [
            "Accuracy: 0.8826347305389222\n"
          ]
        }
      ],
      "source": [
        "ExtraTrees_predict = model_ExtraTrees.predict(X_test)\n",
        "accuracy_ExtraTrees = accuracy_score(y_test, ExtraTrees_predict)\n",
        "print(f\"Accuracy: {accuracy_ExtraTrees}\")"
      ]
    },
    {
      "cell_type": "code",
      "execution_count": 53,
      "id": "2zcoJ6HG78tp",
      "metadata": {
        "colab": {
          "base_uri": "https://localhost:8080/",
          "height": 730
        },
        "id": "2zcoJ6HG78tp",
        "outputId": "f26cff5d-b0e3-4ff9-f57d-4d63fc353f70"
      },
      "outputs": [
        {
          "name": "stdout",
          "output_type": "stream",
          "text": [
            "Classification Report:\n",
            "               precision    recall  f1-score   support\n",
            "\n",
            "           0       0.90      0.93      0.92       214\n",
            "           1       0.69      0.76      0.72       229\n",
            "           2       0.83      0.70      0.76       229\n",
            "           3       0.86      0.83      0.84       238\n",
            "           4       0.92      0.95      0.93       271\n",
            "           5       0.98      0.98      0.98       240\n",
            "           6       1.00      0.99      0.99       249\n",
            "\n",
            "    accuracy                           0.88      1670\n",
            "   macro avg       0.88      0.88      0.88      1670\n",
            "weighted avg       0.88      0.88      0.88      1670\n",
            "\n"
          ]
        },
        {
          "data": {
            "image/png": "[encoded data removed]",
            "text/plain": [
              "<Figure size 432x288 with 2 Axes>"
            ]
          },
          "metadata": {
            "needs_background": "light"
          },
          "output_type": "display_data"
        },
        {
          "name": "stdout",
          "output_type": "stream",
          "text": [
            "Accuracy: 0.883\n"
          ]
        }
      ],
      "source": [
        "classification_acc(model_ExtraTrees, 'Extra Trees Clasifier')"
      ]
    },
    {
      "cell_type": "markdown",
      "id": "962b8ed4",
      "metadata": {
        "id": "962b8ed4",
        "papermill": {
          "duration": 0.032683,
          "end_time": "2024-04-25T11:52:41.003842",
          "exception": false,
          "start_time": "2024-04-25T11:52:40.971159",
          "status": "completed"
        },
        "tags": []
      },
      "source": [
        "## Models Accuracy comparation"
      ]
    },
    {
      "cell_type": "code",
      "execution_count": 56,
      "id": "bbdbe340",
      "metadata": {
        "colab": {
          "base_uri": "https://localhost:8080/"
        },
        "execution": {
          "iopub.execute_input": "2024-04-25T11:52:41.073193Z",
          "iopub.status.busy": "2024-04-25T11:52:41.072771Z",
          "iopub.status.idle": "2024-04-25T11:52:41.078001Z",
          "shell.execute_reply": "2024-04-25T11:52:41.077042Z"
        },
        "id": "bbdbe340",
        "outputId": "eb6eb523-490c-485a-97da-69903ac5f1c7",
        "papermill": {
          "duration": 0.043242,
          "end_time": "2024-04-25T11:52:41.080397",
          "exception": false,
          "start_time": "2024-04-25T11:52:41.037155",
          "status": "completed"
        },
        "tags": []
      },
      "outputs": [
        {
          "name": "stdout",
          "output_type": "stream",
          "text": [
            "Random Forest Regressor 1                  0.983\n",
            "Random Forest Regressor(Grid Search CV)    0.978\n",
            "Decision Tree Regressor                    0.957\n",
            "Linear Regression                          0.946\n",
            "CatBoosting Clasifier                      0.937\n",
            "KNeighbors Regressor                       0.933\n",
            "Light Gradient Boosting Clasifier          0.929\n",
            "Gradient Boosting Clasifier                0.899\n",
            "Extra Gradient Boosting Clasifier          0.899\n",
            "Extra Trees Clasifier                      0.883\n",
            "Decision Tree Classifier                   0.874\n",
            "Support Vector Machines(Regression)        0.871\n",
            "dtype: float64\n"
          ]
        }
      ],
      "source": [
        "models_acc = models_acc\n",
        "print(models_acc)"
      ]
    },
    {
      "cell_type": "code",
      "execution_count": 57,
      "id": "090c5d74",
      "metadata": {
        "colab": {
          "base_uri": "https://localhost:8080/",
          "height": 918
        },
        "execution": {
          "iopub.execute_input": "2024-04-25T11:52:41.148938Z",
          "iopub.status.busy": "2024-04-25T11:52:41.148497Z",
          "iopub.status.idle": "2024-04-25T11:52:41.537500Z",
          "shell.execute_reply": "2024-04-25T11:52:41.535986Z"
        },
        "id": "090c5d74",
        "outputId": "56a0d4f6-8edc-464b-bbfe-ca78fe671240",
        "papermill": {
          "duration": 0.427861,
          "end_time": "2024-04-25T11:52:41.540901",
          "exception": false,
          "start_time": "2024-04-25T11:52:41.113040",
          "status": "completed"
        },
        "tags": []
      },
      "outputs": [
        {
          "data": {
            "text/plain": [
              "[Text(0, 0, '0.983'),\n",
              " Text(0, 0, '0.978'),\n",
              " Text(0, 0, '0.957'),\n",
              " Text(0, 0, '0.946'),\n",
              " Text(0, 0, '0.937'),\n",
              " Text(0, 0, '0.933'),\n",
              " Text(0, 0, '0.929'),\n",
              " Text(0, 0, '0.899'),\n",
              " Text(0, 0, '0.899'),\n",
              " Text(0, 0, '0.883'),\n",
              " Text(0, 0, '0.874'),\n",
              " Text(0, 0, '0.871')]"
            ]
          },
          "execution_count": 57,
          "metadata": {},
          "output_type": "execute_result"
        },
        {
          "data": {
            "image/png": "[encoded data removed]",
            "text/plain": [
              "<Figure size 432x288 with 1 Axes>"
            ]
          },
          "metadata": {
            "needs_background": "light"
          },
          "output_type": "display_data"
        }
      ],
      "source": [
        "models_acc = pd.Series(models_acc)\n",
        "models_acc = models_acc.sort_values(ascending=False)\n",
        "\n",
        "colors = ['indigo', 'mediumblue', 'teal', 'turquoise', 'greenyellow', 'goldenrod']\n",
        "colors2 = ['#9e0142', '#d53e4f', 'salmon', '#f46d43', '#fdae61', '#fee08b', '#e6f598', '#abdda4', '#66c2a5', '#3288bd', '#5e4fa2']\n",
        "\n",
        "ax = plt.bar(models_acc.index, height = models_acc, color = colors2)\n",
        "plt.xticks(rotation = 90)\n",
        "plt.bar_label(ax, fontsize=10)"
      ]
    },
    {
      "cell_type": "markdown",
      "id": "k6vuBd6V9wyw",
      "metadata": {
        "id": "k6vuBd6V9wyw"
      },
      "source": [
        "# Model Selection"
      ]
    },
    {
      "cell_type": "markdown",
      "id": "Om8yS4Uv95wQ",
      "metadata": {
        "id": "Om8yS4Uv95wQ"
      },
      "source": [
        "Berdasarkan hasil evaluasi yang telah dilakukan dari beberapa algoritma diatas, kami memutuskan untuk mengunakan algoritma model Random Forrest Regressor dikarenakan memiliki nilai akurasi yang paling baik."
      ]
    },
    {
      "cell_type": "code",
      "execution_count": 58,
      "id": "k9ex_BZDCQly",
      "metadata": {
        "colab": {
          "base_uri": "https://localhost:8080/",
          "height": 206
        },
        "id": "k9ex_BZDCQly",
        "outputId": "a126b2a7-5493-4c3f-b65f-7c53af596854"
      },
      "outputs": [
        {
          "data": {
            "text/html": [
              "<div>\n",
              "<style scoped>\n",
              "    .dataframe tbody tr th:only-of-type {\n",
              "        vertical-align: middle;\n",
              "    }\n",
              "\n",
              "    .dataframe tbody tr th {\n",
              "        vertical-align: top;\n",
              "    }\n",
              "\n",
              "    .dataframe thead th {\n",
              "        text-align: right;\n",
              "    }\n",
              "</style>\n",
              "<table border=\"1\" class=\"dataframe\">\n",
              "  <thead>\n",
              "    <tr style=\"text-align: right;\">\n",
              "      <th></th>\n",
              "      <th>Age</th>\n",
              "      <th>Gender</th>\n",
              "      <th>Height</th>\n",
              "      <th>Weight</th>\n",
              "      <th>CALC</th>\n",
              "      <th>FAVC</th>\n",
              "      <th>FCVC</th>\n",
              "      <th>NCP</th>\n",
              "      <th>SCC</th>\n",
              "      <th>SMOKE</th>\n",
              "      <th>CH2O</th>\n",
              "      <th>family_history_with_overweight</th>\n",
              "      <th>FAF</th>\n",
              "      <th>TUE</th>\n",
              "      <th>CAEC</th>\n",
              "      <th>MTRANS</th>\n",
              "      <th>NObeyesdad</th>\n",
              "    </tr>\n",
              "  </thead>\n",
              "  <tbody>\n",
              "    <tr>\n",
              "      <th>0</th>\n",
              "      <td>21.0</td>\n",
              "      <td>1</td>\n",
              "      <td>1.62</td>\n",
              "      <td>64.0</td>\n",
              "      <td>0</td>\n",
              "      <td>0</td>\n",
              "      <td>2.0</td>\n",
              "      <td>3.0</td>\n",
              "      <td>0</td>\n",
              "      <td>0</td>\n",
              "      <td>2.0</td>\n",
              "      <td>1</td>\n",
              "      <td>0.0</td>\n",
              "      <td>1.0</td>\n",
              "      <td>1</td>\n",
              "      <td>1</td>\n",
              "      <td>1</td>\n",
              "    </tr>\n",
              "    <tr>\n",
              "      <th>1</th>\n",
              "      <td>21.0</td>\n",
              "      <td>1</td>\n",
              "      <td>1.52</td>\n",
              "      <td>56.0</td>\n",
              "      <td>1</td>\n",
              "      <td>0</td>\n",
              "      <td>3.0</td>\n",
              "      <td>3.0</td>\n",
              "      <td>1</td>\n",
              "      <td>1</td>\n",
              "      <td>3.0</td>\n",
              "      <td>1</td>\n",
              "      <td>3.0</td>\n",
              "      <td>0.0</td>\n",
              "      <td>1</td>\n",
              "      <td>1</td>\n",
              "      <td>1</td>\n",
              "    </tr>\n",
              "    <tr>\n",
              "      <th>2</th>\n",
              "      <td>23.0</td>\n",
              "      <td>0</td>\n",
              "      <td>1.80</td>\n",
              "      <td>77.0</td>\n",
              "      <td>2</td>\n",
              "      <td>0</td>\n",
              "      <td>2.0</td>\n",
              "      <td>3.0</td>\n",
              "      <td>0</td>\n",
              "      <td>0</td>\n",
              "      <td>2.0</td>\n",
              "      <td>1</td>\n",
              "      <td>2.0</td>\n",
              "      <td>1.0</td>\n",
              "      <td>1</td>\n",
              "      <td>1</td>\n",
              "      <td>1</td>\n",
              "    </tr>\n",
              "    <tr>\n",
              "      <th>3</th>\n",
              "      <td>27.0</td>\n",
              "      <td>0</td>\n",
              "      <td>1.80</td>\n",
              "      <td>87.0</td>\n",
              "      <td>2</td>\n",
              "      <td>0</td>\n",
              "      <td>3.0</td>\n",
              "      <td>3.0</td>\n",
              "      <td>0</td>\n",
              "      <td>0</td>\n",
              "      <td>2.0</td>\n",
              "      <td>0</td>\n",
              "      <td>2.0</td>\n",
              "      <td>0.0</td>\n",
              "      <td>1</td>\n",
              "      <td>0</td>\n",
              "      <td>2</td>\n",
              "    </tr>\n",
              "    <tr>\n",
              "      <th>4</th>\n",
              "      <td>22.0</td>\n",
              "      <td>0</td>\n",
              "      <td>1.78</td>\n",
              "      <td>89.8</td>\n",
              "      <td>1</td>\n",
              "      <td>0</td>\n",
              "      <td>2.0</td>\n",
              "      <td>1.0</td>\n",
              "      <td>0</td>\n",
              "      <td>0</td>\n",
              "      <td>2.0</td>\n",
              "      <td>0</td>\n",
              "      <td>0.0</td>\n",
              "      <td>0.0</td>\n",
              "      <td>1</td>\n",
              "      <td>1</td>\n",
              "      <td>3</td>\n",
              "    </tr>\n",
              "  </tbody>\n",
              "</table>\n",
              "</div>"
            ],
            "text/plain": [
              "    Age  Gender  Height  Weight  CALC  FAVC  FCVC  NCP  SCC  SMOKE  CH2O  \\\n",
              "0  21.0       1    1.62    64.0     0     0   2.0  3.0    0      0   2.0   \n",
              "1  21.0       1    1.52    56.0     1     0   3.0  3.0    1      1   3.0   \n",
              "2  23.0       0    1.80    77.0     2     0   2.0  3.0    0      0   2.0   \n",
              "3  27.0       0    1.80    87.0     2     0   3.0  3.0    0      0   2.0   \n",
              "4  22.0       0    1.78    89.8     1     0   2.0  1.0    0      0   2.0   \n",
              "\n",
              "   family_history_with_overweight  FAF  TUE  CAEC  MTRANS  NObeyesdad  \n",
              "0                               1  0.0  1.0     1       1           1  \n",
              "1                               1  3.0  0.0     1       1           1  \n",
              "2                               1  2.0  1.0     1       1           1  \n",
              "3                               0  2.0  0.0     1       0           2  \n",
              "4                               0  0.0  0.0     1       1           3  "
            ]
          },
          "execution_count": 58,
          "metadata": {},
          "output_type": "execute_result"
        }
      ],
      "source": [
        "df.head()"
      ]
    },
    {
      "cell_type": "code",
      "execution_count": 82,
      "id": "MegwAJ6v9yKb",
      "metadata": {
        "id": "MegwAJ6v9yKb"
      },
      "outputs": [],
      "source": [
        "X = np.array([[21, 1, 1.68, 55, 0, 0, 2, 3, 0, 0, 2, 0, 3, 1, 1, 1]])"
      ]
    },
    {
      "cell_type": "code",
      "execution_count": 83,
      "id": "oxl75CsoLOJ-",
      "metadata": {
        "colab": {
          "base_uri": "https://localhost:8080/"
        },
        "id": "oxl75CsoLOJ-",
        "outputId": "021616f5-7ae9-4440-c26b-954899c28b3a"
      },
      "outputs": [
        {
          "name": "stdout",
          "output_type": "stream",
          "text": [
            "Normal Weight\n"
          ]
        }
      ],
      "source": [
        "y_pred = model_CatBoost.predict(X)\n",
        "#print(int(y_pred))\n",
        "if int(y_pred) == 0:\n",
        "  print(\"Issufficient Weight\")\n",
        "if int(y_pred) == 1:\n",
        "  print(\"Normal Weight\")\n",
        "if int(y_pred) == 2:\n",
        "  print(\"OverWeight Level 1\")\n",
        "if int(y_pred) == 3:\n",
        "  print(\"OverWeight Level 2\")\n",
        "if int(y_pred) == 4:\n",
        "  print(\"Obesity Level 1\")\n",
        "if int(y_pred) == 5:\n",
        "  print(\"Obesity Level 2\")\n",
        "if int(y_pred) == 6:\n",
        "  print(\"Obesity Level 3\")"
      ]
    },
    {
      "cell_type": "markdown",
      "id": "NChRqygyFndh",
      "metadata": {
        "id": "NChRqygyFndh"
      },
      "source": [
        "# Pickle"
      ]
    },
    {
      "cell_type": "code",
      "execution_count": 84,
      "id": "xsFk5CFrjiE1",
      "metadata": {
        "colab": {
          "base_uri": "https://localhost:8080/",
          "height": 193
        },
        "id": "xsFk5CFrjiE1",
        "outputId": "a9520874-1756-45fb-e1f7-40efbcdeaed2"
      },
      "outputs": [],
      "source": [
        "import pickle\n",
        "\n",
        "# Save model to file\n",
        "with open('obesity_classifier.pkl', 'wb') as file:\n",
        "    pickle.dump(model_CatBoost, file)"
      ]
    }
  ],
  "metadata": {
    "colab": {
      "collapsed_sections": [
        "u1DXu3wG3DTi",
        "b550dc49",
        "da2ca971",
        "38df50ca"
      ],
      "provenance": []
    },
    "kaggle": {
      "accelerator": "none",
      "dataSources": [
        {
          "datasetId": 4751341,
          "sourceId": 8055891,
          "sourceType": "datasetVersion"
        }
      ],
      "dockerImageVersionId": 30702,
      "isGpuEnabled": false,
      "isInternetEnabled": true,
      "language": "python",
      "sourceType": "notebook"
    },
    "kernelspec": {
      "display_name": "Python 3",
      "language": "python",
      "name": "python3"
    },
    "language_info": {
      "codemirror_mode": {
        "name": "ipython",
        "version": 3
      },
      "file_extension": ".py",
      "mimetype": "text/x-python",
      "name": "python",
      "nbconvert_exporter": "python",
      "pygments_lexer": "ipython3",
      "version": "3.8.8"
    },
    "papermill": {
      "default_parameters": {},
      "duration": 23.9066,
      "end_time": "2024-04-25T11:52:42.609554",
      "environment_variables": {},
      "exception": null,
      "input_path": "__notebook__.ipynb",
      "output_path": "__notebook__.ipynb",
      "parameters": {},
      "start_time": "2024-04-25T11:52:18.702954",
      "version": "2.5.0"
    }
  },
  "nbformat": 4,
  "nbformat_minor": 5
}
